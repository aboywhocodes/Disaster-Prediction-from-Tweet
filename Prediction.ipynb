{
  "nbformat": 4,
  "nbformat_minor": 0,
  "metadata": {
    "kernelspec": {
      "language": "python",
      "display_name": "Python 3",
      "name": "python3"
    },
    "language_info": {
      "name": "python",
      "version": "3.7.10",
      "mimetype": "text/x-python",
      "codemirror_mode": {
        "name": "ipython",
        "version": 3
      },
      "pygments_lexer": "ipython3",
      "nbconvert_exporter": "python",
      "file_extension": ".py"
    },
    "colab": {
      "name": "notebook69eeec2995 (1).ipynb",
      "provenance": []
    }
  },
  "cells": [
    {
      "cell_type": "code",
      "metadata": {
        "_uuid": "8f2839f25d086af736a60e9eeb907d3b93b6e0e5",
        "_cell_guid": "b1076dfc-b9ad-4769-8c92-a6c4dae69d19",
        "trusted": true,
        "id": "C7b0KqCUC-Fy"
      },
      "source": [
        "# This Python 3 environment comes with many helpful analytics libraries installed\n",
        "# It is defined by the kaggle/python Docker image: https://github.com/kaggle/docker-python\n",
        "# For example, here's several helpful packages to load\n",
        "\n",
        "import numpy as np # linear algebra\n",
        "import pandas as pd # data processing, CSV file I/O (e.g. pd.read_csv)\n",
        "\n",
        "# Input data files are available in the read-only \"../input/\" directory\n",
        "# For example, running this (by clicking run or pressing Shift+Enter) will list all files under the input directory\n",
        "\n",
        "import os\n",
        "for dirname, _, filenames in os.walk('/kaggle/input'):\n",
        "    for filename in filenames:\n",
        "        print(os.path.join(dirname, filename))\n",
        "\n",
        "# You can write up to 20GB to the current directory (/kaggle/working/) that gets preserved as output when you create a version using \"Save & Run All\" \n",
        "# You can also write temporary files to /kaggle/temp/, but they won't be saved outside of the current session"
      ],
      "execution_count": null,
      "outputs": []
    },
    {
      "cell_type": "code",
      "metadata": {
        "execution": {
          "iopub.status.busy": "2021-07-15T08:14:32.403632Z",
          "iopub.execute_input": "2021-07-15T08:14:32.404163Z",
          "iopub.status.idle": "2021-07-15T08:14:32.648737Z",
          "shell.execute_reply.started": "2021-07-15T08:14:32.404125Z",
          "shell.execute_reply": "2021-07-15T08:14:32.647618Z"
        },
        "trusted": true,
        "id": "mC8vtSDsC-F0",
        "outputId": "279a53ee-3cb3-443a-896c-90a020f0bdb9"
      },
      "source": [
        "import pandas as pd\n",
        "train_df = pd.read_csv(\"../input/nlp-getting-started/train.csv\")\n",
        "test_df = pd.read_csv(\"../input/nlp-getting-started/test.csv\")\n",
        "train_df.head()"
      ],
      "execution_count": null,
      "outputs": [
        {
          "output_type": "execute_result",
          "data": {
            "text/plain": [
              "   id keyword location                                               text  \\\n",
              "0   1     NaN      NaN  Our Deeds are the Reason of this #earthquake M...   \n",
              "1   4     NaN      NaN             Forest fire near La Ronge Sask. Canada   \n",
              "2   5     NaN      NaN  All residents asked to 'shelter in place' are ...   \n",
              "3   6     NaN      NaN  13,000 people receive #wildfires evacuation or...   \n",
              "4   7     NaN      NaN  Just got sent this photo from Ruby #Alaska as ...   \n",
              "\n",
              "   target  \n",
              "0       1  \n",
              "1       1  \n",
              "2       1  \n",
              "3       1  \n",
              "4       1  "
            ],
            "text/html": [
              "<div>\n",
              "<style scoped>\n",
              "    .dataframe tbody tr th:only-of-type {\n",
              "        vertical-align: middle;\n",
              "    }\n",
              "\n",
              "    .dataframe tbody tr th {\n",
              "        vertical-align: top;\n",
              "    }\n",
              "\n",
              "    .dataframe thead th {\n",
              "        text-align: right;\n",
              "    }\n",
              "</style>\n",
              "<table border=\"1\" class=\"dataframe\">\n",
              "  <thead>\n",
              "    <tr style=\"text-align: right;\">\n",
              "      <th></th>\n",
              "      <th>id</th>\n",
              "      <th>keyword</th>\n",
              "      <th>location</th>\n",
              "      <th>text</th>\n",
              "      <th>target</th>\n",
              "    </tr>\n",
              "  </thead>\n",
              "  <tbody>\n",
              "    <tr>\n",
              "      <th>0</th>\n",
              "      <td>1</td>\n",
              "      <td>NaN</td>\n",
              "      <td>NaN</td>\n",
              "      <td>Our Deeds are the Reason of this #earthquake M...</td>\n",
              "      <td>1</td>\n",
              "    </tr>\n",
              "    <tr>\n",
              "      <th>1</th>\n",
              "      <td>4</td>\n",
              "      <td>NaN</td>\n",
              "      <td>NaN</td>\n",
              "      <td>Forest fire near La Ronge Sask. Canada</td>\n",
              "      <td>1</td>\n",
              "    </tr>\n",
              "    <tr>\n",
              "      <th>2</th>\n",
              "      <td>5</td>\n",
              "      <td>NaN</td>\n",
              "      <td>NaN</td>\n",
              "      <td>All residents asked to 'shelter in place' are ...</td>\n",
              "      <td>1</td>\n",
              "    </tr>\n",
              "    <tr>\n",
              "      <th>3</th>\n",
              "      <td>6</td>\n",
              "      <td>NaN</td>\n",
              "      <td>NaN</td>\n",
              "      <td>13,000 people receive #wildfires evacuation or...</td>\n",
              "      <td>1</td>\n",
              "    </tr>\n",
              "    <tr>\n",
              "      <th>4</th>\n",
              "      <td>7</td>\n",
              "      <td>NaN</td>\n",
              "      <td>NaN</td>\n",
              "      <td>Just got sent this photo from Ruby #Alaska as ...</td>\n",
              "      <td>1</td>\n",
              "    </tr>\n",
              "  </tbody>\n",
              "</table>\n",
              "</div>"
            ]
          },
          "metadata": {
            "tags": []
          },
          "execution_count": 2
        }
      ]
    },
    {
      "cell_type": "code",
      "metadata": {
        "execution": {
          "iopub.status.busy": "2021-07-15T08:15:32.853669Z",
          "iopub.execute_input": "2021-07-15T08:15:32.854108Z",
          "iopub.status.idle": "2021-07-15T08:15:32.871698Z",
          "shell.execute_reply.started": "2021-07-15T08:15:32.854072Z",
          "shell.execute_reply": "2021-07-15T08:15:32.870519Z"
        },
        "trusted": true,
        "id": "dvA7vNHIC-F1",
        "outputId": "25676642-d40d-46af-e940-4566928cbc00"
      },
      "source": [
        "#Shuffle training dataframe\n",
        "train_df_shuffled = train_df.sample(frac = 1, random_state = 42)\n",
        "train_df_shuffled.head()"
      ],
      "execution_count": null,
      "outputs": [
        {
          "output_type": "execute_result",
          "data": {
            "text/plain": [
              "        id      keyword               location  \\\n",
              "2644  3796  destruction                    NaN   \n",
              "2227  3185       deluge                    NaN   \n",
              "5448  7769       police                     UK   \n",
              "132    191   aftershock                    NaN   \n",
              "6845  9810       trauma  Montgomery County, MD   \n",
              "\n",
              "                                                   text  target  \n",
              "2644  So you have a new weapon that can cause un-ima...       1  \n",
              "2227  The f$&amp;@ing things I do for #GISHWHES Just...       0  \n",
              "5448  DT @georgegalloway: RT @Galloway4Mayor: ÛÏThe...       1  \n",
              "132   Aftershock back to school kick off was great. ...       0  \n",
              "6845  in response to trauma Children of Addicts deve...       0  "
            ],
            "text/html": [
              "<div>\n",
              "<style scoped>\n",
              "    .dataframe tbody tr th:only-of-type {\n",
              "        vertical-align: middle;\n",
              "    }\n",
              "\n",
              "    .dataframe tbody tr th {\n",
              "        vertical-align: top;\n",
              "    }\n",
              "\n",
              "    .dataframe thead th {\n",
              "        text-align: right;\n",
              "    }\n",
              "</style>\n",
              "<table border=\"1\" class=\"dataframe\">\n",
              "  <thead>\n",
              "    <tr style=\"text-align: right;\">\n",
              "      <th></th>\n",
              "      <th>id</th>\n",
              "      <th>keyword</th>\n",
              "      <th>location</th>\n",
              "      <th>text</th>\n",
              "      <th>target</th>\n",
              "    </tr>\n",
              "  </thead>\n",
              "  <tbody>\n",
              "    <tr>\n",
              "      <th>2644</th>\n",
              "      <td>3796</td>\n",
              "      <td>destruction</td>\n",
              "      <td>NaN</td>\n",
              "      <td>So you have a new weapon that can cause un-ima...</td>\n",
              "      <td>1</td>\n",
              "    </tr>\n",
              "    <tr>\n",
              "      <th>2227</th>\n",
              "      <td>3185</td>\n",
              "      <td>deluge</td>\n",
              "      <td>NaN</td>\n",
              "      <td>The f$&amp;amp;@ing things I do for #GISHWHES Just...</td>\n",
              "      <td>0</td>\n",
              "    </tr>\n",
              "    <tr>\n",
              "      <th>5448</th>\n",
              "      <td>7769</td>\n",
              "      <td>police</td>\n",
              "      <td>UK</td>\n",
              "      <td>DT @georgegalloway: RT @Galloway4Mayor: ÛÏThe...</td>\n",
              "      <td>1</td>\n",
              "    </tr>\n",
              "    <tr>\n",
              "      <th>132</th>\n",
              "      <td>191</td>\n",
              "      <td>aftershock</td>\n",
              "      <td>NaN</td>\n",
              "      <td>Aftershock back to school kick off was great. ...</td>\n",
              "      <td>0</td>\n",
              "    </tr>\n",
              "    <tr>\n",
              "      <th>6845</th>\n",
              "      <td>9810</td>\n",
              "      <td>trauma</td>\n",
              "      <td>Montgomery County, MD</td>\n",
              "      <td>in response to trauma Children of Addicts deve...</td>\n",
              "      <td>0</td>\n",
              "    </tr>\n",
              "  </tbody>\n",
              "</table>\n",
              "</div>"
            ]
          },
          "metadata": {
            "tags": []
          },
          "execution_count": 4
        }
      ]
    },
    {
      "cell_type": "code",
      "metadata": {
        "execution": {
          "iopub.status.busy": "2021-07-15T08:16:08.933721Z",
          "iopub.execute_input": "2021-07-15T08:16:08.934115Z",
          "iopub.status.idle": "2021-07-15T08:16:08.947427Z",
          "shell.execute_reply.started": "2021-07-15T08:16:08.934082Z",
          "shell.execute_reply": "2021-07-15T08:16:08.946129Z"
        },
        "trusted": true,
        "id": "1iLJuaH0C-F2",
        "outputId": "f0bbd0b4-05f2-4f66-a70b-d0849ac56b69"
      },
      "source": [
        "test_df.head()"
      ],
      "execution_count": null,
      "outputs": [
        {
          "output_type": "execute_result",
          "data": {
            "text/plain": [
              "   id keyword location                                               text\n",
              "0   0     NaN      NaN                 Just happened a terrible car crash\n",
              "1   2     NaN      NaN  Heard about #earthquake is different cities, s...\n",
              "2   3     NaN      NaN  there is a forest fire at spot pond, geese are...\n",
              "3   9     NaN      NaN           Apocalypse lighting. #Spokane #wildfires\n",
              "4  11     NaN      NaN      Typhoon Soudelor kills 28 in China and Taiwan"
            ],
            "text/html": [
              "<div>\n",
              "<style scoped>\n",
              "    .dataframe tbody tr th:only-of-type {\n",
              "        vertical-align: middle;\n",
              "    }\n",
              "\n",
              "    .dataframe tbody tr th {\n",
              "        vertical-align: top;\n",
              "    }\n",
              "\n",
              "    .dataframe thead th {\n",
              "        text-align: right;\n",
              "    }\n",
              "</style>\n",
              "<table border=\"1\" class=\"dataframe\">\n",
              "  <thead>\n",
              "    <tr style=\"text-align: right;\">\n",
              "      <th></th>\n",
              "      <th>id</th>\n",
              "      <th>keyword</th>\n",
              "      <th>location</th>\n",
              "      <th>text</th>\n",
              "    </tr>\n",
              "  </thead>\n",
              "  <tbody>\n",
              "    <tr>\n",
              "      <th>0</th>\n",
              "      <td>0</td>\n",
              "      <td>NaN</td>\n",
              "      <td>NaN</td>\n",
              "      <td>Just happened a terrible car crash</td>\n",
              "    </tr>\n",
              "    <tr>\n",
              "      <th>1</th>\n",
              "      <td>2</td>\n",
              "      <td>NaN</td>\n",
              "      <td>NaN</td>\n",
              "      <td>Heard about #earthquake is different cities, s...</td>\n",
              "    </tr>\n",
              "    <tr>\n",
              "      <th>2</th>\n",
              "      <td>3</td>\n",
              "      <td>NaN</td>\n",
              "      <td>NaN</td>\n",
              "      <td>there is a forest fire at spot pond, geese are...</td>\n",
              "    </tr>\n",
              "    <tr>\n",
              "      <th>3</th>\n",
              "      <td>9</td>\n",
              "      <td>NaN</td>\n",
              "      <td>NaN</td>\n",
              "      <td>Apocalypse lighting. #Spokane #wildfires</td>\n",
              "    </tr>\n",
              "    <tr>\n",
              "      <th>4</th>\n",
              "      <td>11</td>\n",
              "      <td>NaN</td>\n",
              "      <td>NaN</td>\n",
              "      <td>Typhoon Soudelor kills 28 in China and Taiwan</td>\n",
              "    </tr>\n",
              "  </tbody>\n",
              "</table>\n",
              "</div>"
            ]
          },
          "metadata": {
            "tags": []
          },
          "execution_count": 5
        }
      ]
    },
    {
      "cell_type": "code",
      "metadata": {
        "execution": {
          "iopub.status.busy": "2021-07-15T08:16:28.783488Z",
          "iopub.execute_input": "2021-07-15T08:16:28.783895Z",
          "iopub.status.idle": "2021-07-15T08:16:28.795676Z",
          "shell.execute_reply.started": "2021-07-15T08:16:28.783861Z",
          "shell.execute_reply": "2021-07-15T08:16:28.794907Z"
        },
        "trusted": true,
        "id": "Em8ziDauC-F2",
        "outputId": "0c691eee-3e58-4afc-d067-6fe8c96599d1"
      },
      "source": [
        "train_df.target.value_counts()"
      ],
      "execution_count": null,
      "outputs": [
        {
          "output_type": "execute_result",
          "data": {
            "text/plain": [
              "0    4342\n",
              "1    3271\n",
              "Name: target, dtype: int64"
            ]
          },
          "metadata": {
            "tags": []
          },
          "execution_count": 6
        }
      ]
    },
    {
      "cell_type": "code",
      "metadata": {
        "execution": {
          "iopub.status.busy": "2021-07-15T08:16:44.943635Z",
          "iopub.execute_input": "2021-07-15T08:16:44.944088Z",
          "iopub.status.idle": "2021-07-15T08:16:44.947820Z",
          "shell.execute_reply.started": "2021-07-15T08:16:44.944044Z",
          "shell.execute_reply": "2021-07-15T08:16:44.946979Z"
        },
        "trusted": true,
        "id": "5Bq0aS-WC-F2"
      },
      "source": [
        "#So data is fairly balanced"
      ],
      "execution_count": null,
      "outputs": []
    },
    {
      "cell_type": "code",
      "metadata": {
        "execution": {
          "iopub.status.busy": "2021-07-15T08:17:59.414830Z",
          "iopub.execute_input": "2021-07-15T08:17:59.415411Z",
          "iopub.status.idle": "2021-07-15T08:17:59.421625Z",
          "shell.execute_reply.started": "2021-07-15T08:17:59.415376Z",
          "shell.execute_reply": "2021-07-15T08:17:59.420222Z"
        },
        "trusted": true,
        "id": "_NYD_elWC-F3",
        "outputId": "001e351b-12d1-43df-a901-cad1677f2055"
      },
      "source": [
        "print(f\"Total Training Sample:{len(train_df)}\")\n",
        "print(f\"Total Test Sample:{len(test_df)}\")"
      ],
      "execution_count": null,
      "outputs": [
        {
          "output_type": "stream",
          "text": [
            "Total Training Sample:7613\n",
            "Total Test Sample:3263\n"
          ],
          "name": "stdout"
        }
      ]
    },
    {
      "cell_type": "code",
      "metadata": {
        "execution": {
          "iopub.status.busy": "2021-07-15T08:23:51.533491Z",
          "iopub.execute_input": "2021-07-15T08:23:51.533894Z",
          "iopub.status.idle": "2021-07-15T08:23:51.547286Z",
          "shell.execute_reply.started": "2021-07-15T08:23:51.533860Z",
          "shell.execute_reply": "2021-07-15T08:23:51.546103Z"
        },
        "trusted": true,
        "id": "naRBvoPtC-F3",
        "outputId": "c2b74619-d154-4ae4-9ef3-7d56deb8dc86"
      },
      "source": [
        "#Visulaizing some random training examples\n",
        "\n",
        "import random\n",
        "random_index = random.randint(0,len(train_df)-5)\n",
        "\n",
        "#random indexes not higher than the total number of samples\n",
        "\n",
        "for row in train_df_shuffled[[\"text\",\"target\"]][random_index:random_index+5].itertuples():\n",
        "    _,text,target = row\n",
        "    print(f\"Target: {target}\", \"(real disaster)\" if target>0 else (\"not real disaster\"))\n",
        "    print(f\"Text:\\n{text}\\n\")\n",
        "    print(\"...\\n\")"
      ],
      "execution_count": null,
      "outputs": [
        {
          "output_type": "stream",
          "text": [
            "Target: 1 (real disaster)\n",
            "Text:\n",
            "There's a weird siren going off here...I hope Hunterston isn't in the process of blowing itself to smithereens...\n",
            "\n",
            "...\n",
            "\n",
            "Target: 0 not real disaster\n",
            "Text:\n",
            "@_RedDevil4Life_ @ManUtd destroyed!??\n",
            "\n",
            "...\n",
            "\n",
            "Target: 1 (real disaster)\n",
            "Text:\n",
            "the sunset boys wreck my bed   original 1979 usa gimp label  vinyl 7' 45  newave http://t.co/X0QLgwoyMT http://t.co/hQNx8qMeG3\n",
            "\n",
            "...\n",
            "\n",
            "Target: 0 not real disaster\n",
            "Text:\n",
            "Want Twister Tickets AND A CHANCE AT A VIP EXPERIENCE To See SHANIA!!! CLICK HERE: http://t.co/964dk4rwwe\n",
            "\n",
            "...\n",
            "\n",
            "Target: 1 (real disaster)\n",
            "Text:\n",
            "The Latest: More homes razed by Northern California wildfire - http://t.co/IrqUjaEsck http://t.co/qDwEknRMi9\n",
            "\n",
            "...\n",
            "\n"
          ],
          "name": "stdout"
        }
      ]
    },
    {
      "cell_type": "markdown",
      "metadata": {
        "id": "rVq1vc5HC-F3"
      },
      "source": [
        "SPLITTING INTO TRAIN AND TEST DATA"
      ]
    },
    {
      "cell_type": "code",
      "metadata": {
        "execution": {
          "iopub.status.busy": "2021-07-15T08:28:58.018514Z",
          "iopub.execute_input": "2021-07-15T08:28:58.019122Z",
          "iopub.status.idle": "2021-07-15T08:28:59.055727Z",
          "shell.execute_reply.started": "2021-07-15T08:28:58.019055Z",
          "shell.execute_reply": "2021-07-15T08:28:59.054497Z"
        },
        "trusted": true,
        "id": "4vbCaaXEC-F4"
      },
      "source": [
        "from sklearn.model_selection import train_test_split\n",
        "train_sentences, val_sentences, train_labels, val_labels = train_test_split(train_df_shuffled[\"text\"].to_numpy(),train_df_shuffled[\"target\"].to_numpy(), test_size = 0.2, random_state = 42)\n"
      ],
      "execution_count": null,
      "outputs": []
    },
    {
      "cell_type": "code",
      "metadata": {
        "execution": {
          "iopub.status.busy": "2021-07-15T08:29:41.563077Z",
          "iopub.execute_input": "2021-07-15T08:29:41.563521Z",
          "iopub.status.idle": "2021-07-15T08:29:41.570193Z",
          "shell.execute_reply.started": "2021-07-15T08:29:41.563478Z",
          "shell.execute_reply": "2021-07-15T08:29:41.569436Z"
        },
        "trusted": true,
        "id": "nXgaBOyeC-F4",
        "outputId": "694d284e-c727-4f1d-db19-cf7c7c47185e"
      },
      "source": [
        "len(train_sentences),len(train_labels),len(val_sentences) ,len(val_labels)"
      ],
      "execution_count": null,
      "outputs": [
        {
          "output_type": "execute_result",
          "data": {
            "text/plain": [
              "(6090, 6090, 1523, 1523)"
            ]
          },
          "metadata": {
            "tags": []
          },
          "execution_count": 18
        }
      ]
    },
    {
      "cell_type": "code",
      "metadata": {
        "execution": {
          "iopub.status.busy": "2021-07-15T08:39:04.279059Z",
          "iopub.execute_input": "2021-07-15T08:39:04.279505Z",
          "iopub.status.idle": "2021-07-15T08:39:04.332923Z",
          "shell.execute_reply.started": "2021-07-15T08:39:04.279466Z",
          "shell.execute_reply": "2021-07-15T08:39:04.331770Z"
        },
        "trusted": true,
        "id": "AwcvgsjSC-F4"
      },
      "source": [
        "#Using TextVectorization\n",
        "\n",
        "import tensorflow as tf\n",
        "from tensorflow.keras.layers.experimental.preprocessing import TextVectorization\n",
        "\n",
        "text_vectorizer = TextVectorization(max_tokens = None, standardize = \"lower_and_strip_punctuation\", split = \"whitespace\", ngrams = None, output_mode = \"int\", output_sequence_length = None, pad_to_max_tokens = True)\n",
        "#how many words in voca\n",
        "#how to process text\n",
        "#how to split tokens\n",
        "#create group of n words\n",
        "#mapping token to numbers\n",
        "#length of output sequence"
      ],
      "execution_count": null,
      "outputs": []
    },
    {
      "cell_type": "code",
      "metadata": {
        "execution": {
          "iopub.status.busy": "2021-07-15T08:41:51.439587Z",
          "iopub.execute_input": "2021-07-15T08:41:51.439988Z",
          "iopub.status.idle": "2021-07-15T08:41:51.456758Z",
          "shell.execute_reply.started": "2021-07-15T08:41:51.439953Z",
          "shell.execute_reply": "2021-07-15T08:41:51.455477Z"
        },
        "trusted": true,
        "id": "Jc-s7UJEC-F5",
        "outputId": "f2c01740-5b07-40e5-e4fb-069eea60f876"
      },
      "source": [
        "\n",
        "# Find average number of tokens (words) in training Tweets\n",
        "round(sum([len(i.split()) for i in train_sentences])/len(train_sentences))"
      ],
      "execution_count": null,
      "outputs": [
        {
          "output_type": "execute_result",
          "data": {
            "text/plain": [
              "15"
            ]
          },
          "metadata": {
            "tags": []
          },
          "execution_count": 25
        }
      ]
    },
    {
      "cell_type": "code",
      "metadata": {
        "execution": {
          "iopub.status.busy": "2021-07-15T08:44:21.489666Z",
          "iopub.execute_input": "2021-07-15T08:44:21.490105Z",
          "iopub.status.idle": "2021-07-15T08:44:21.507133Z",
          "shell.execute_reply.started": "2021-07-15T08:44:21.490069Z",
          "shell.execute_reply": "2021-07-15T08:44:21.505877Z"
        },
        "trusted": true,
        "id": "jPvDKO3EC-F5"
      },
      "source": [
        "# Setup text vectorization variables\n",
        "max_vocab_length = 10000 # max number of words to have in our vocabulary\n",
        "max_length = 15 # max length our sequences will be (e.g. how many words from a Tweet does our model see?)\n",
        "\n",
        "text_vectorizer = TextVectorization(max_tokens=max_vocab_length,\n",
        "                                    output_mode=\"int\",\n",
        "                                    output_sequence_length=max_length)"
      ],
      "execution_count": null,
      "outputs": []
    },
    {
      "cell_type": "markdown",
      "metadata": {
        "id": "te9eZ1CbGEYr"
      },
      "source": [
        ""
      ]
    },
    {
      "cell_type": "code",
      "metadata": {
        "execution": {
          "iopub.status.busy": "2021-07-15T08:45:06.479659Z",
          "iopub.execute_input": "2021-07-15T08:45:06.480083Z",
          "iopub.status.idle": "2021-07-15T08:45:06.748415Z",
          "shell.execute_reply.started": "2021-07-15T08:45:06.480040Z",
          "shell.execute_reply": "2021-07-15T08:45:06.747271Z"
        },
        "trusted": true,
        "id": "ZBLUBbn-C-F5"
      },
      "source": [
        "#Fitting text_vectorizer on data\n",
        "text_vectorizer.adapt(train_sentences)"
      ],
      "execution_count": null,
      "outputs": []
    },
    {
      "cell_type": "code",
      "metadata": {
        "execution": {
          "iopub.status.busy": "2021-07-15T08:46:19.324334Z",
          "iopub.execute_input": "2021-07-15T08:46:19.324828Z",
          "iopub.status.idle": "2021-07-15T08:46:19.339082Z",
          "shell.execute_reply.started": "2021-07-15T08:46:19.324790Z",
          "shell.execute_reply": "2021-07-15T08:46:19.337538Z"
        },
        "trusted": true,
        "id": "Y4o-z-CtC-F5",
        "outputId": "d832bd35-a7b7-428d-8dec-8071b699fe95"
      },
      "source": [
        "#Create Sample sentences and see tokenizinf\n",
        "sample_sentence = \"There is a volcano in my house\"\n",
        "text_vectorizer([sample_sentence])"
      ],
      "execution_count": null,
      "outputs": [
        {
          "output_type": "execute_result",
          "data": {
            "text/plain": [
              "<tf.Tensor: shape=(1, 15), dtype=int64, numpy=\n",
              "array([[ 75,   9,   3, 488,   4,  13, 340,   0,   0,   0,   0,   0,   0,\n",
              "          0,   0]])>"
            ]
          },
          "metadata": {
            "tags": []
          },
          "execution_count": 29
        }
      ]
    },
    {
      "cell_type": "code",
      "metadata": {
        "execution": {
          "iopub.status.busy": "2021-07-15T08:49:54.495200Z",
          "iopub.execute_input": "2021-07-15T08:49:54.495661Z",
          "iopub.status.idle": "2021-07-15T08:49:54.509953Z",
          "shell.execute_reply.started": "2021-07-15T08:49:54.495621Z",
          "shell.execute_reply": "2021-07-15T08:49:54.508813Z"
        },
        "trusted": true,
        "id": "prduYbC4C-F6",
        "outputId": "bfb376b7-bd9d-4c57-9e10-6c783ca3b1db"
      },
      "source": [
        "#choose a random sentence and tokenize\n",
        "\n",
        "random_sentence = random.choice(train_sentences)\n",
        "\n",
        "print(f\"Original Tezt:\\n{random_sentence}\\n\\nVectorized version:\")\n",
        "text_vectorizer([random_sentence])      "
      ],
      "execution_count": null,
      "outputs": [
        {
          "output_type": "stream",
          "text": [
            "Original Tezt:\n",
            "Discovered Plane Debris Is From Missing Malaysia Airlines Flight 370 | TIME http://t.co/7fSn1GeWUX\n",
            "\n",
            "Vectorized version:\n"
          ],
          "name": "stdout"
        },
        {
          "output_type": "execute_result",
          "data": {
            "text/plain": [
              "<tf.Tensor: shape=(1, 15), dtype=int64, numpy=\n",
              "array([[1722,  651,  235,    9,   20,  377,  232, 1216,  980, 2951,   92,\n",
              "           1,    0,    0,    0]])>"
            ]
          },
          "metadata": {
            "tags": []
          },
          "execution_count": 34
        }
      ]
    },
    {
      "cell_type": "code",
      "metadata": {
        "execution": {
          "iopub.status.busy": "2021-07-15T08:54:12.584542Z",
          "iopub.execute_input": "2021-07-15T08:54:12.584934Z",
          "iopub.status.idle": "2021-07-15T08:54:12.621510Z",
          "shell.execute_reply.started": "2021-07-15T08:54:12.584900Z",
          "shell.execute_reply": "2021-07-15T08:54:12.620345Z"
        },
        "trusted": true,
        "id": "Tlf1zza_C-F6",
        "outputId": "d72c28ac-2adb-4ba5-ea63-6c09063aa5cb"
      },
      "source": [
        "#Get the unique words in vocabulary\n",
        "\n",
        "words_in_vocab = text_vectorizer.get_vocabulary()\n",
        "top_5_words = words_in_vocab[:5]\n",
        "#most common tokens\n",
        "bottom_5_words = words_in_vocab[-5:]\n",
        "#least common tokens\n",
        "print(f\"Number of words in vocab: {len(words_in_vocab)}\")\n",
        "print(f\"Top 5 most common words: {top_5_words}\")\n",
        "print(f\"Bottom 5 least common words: {bottom_5_words}\")"
      ],
      "execution_count": null,
      "outputs": [
        {
          "output_type": "stream",
          "text": [
            "Number of words in vocab: 10000\n",
            "Top 5 most common words: ['', '[UNK]', 'the', 'a', 'in']\n",
            "Bottom 5 least common words: ['minded', 'mindblowing', 'milne', 'milledgeville', 'millcityio']\n"
          ],
          "name": "stdout"
        }
      ]
    },
    {
      "cell_type": "code",
      "metadata": {
        "execution": {
          "iopub.status.busy": "2021-07-15T08:58:31.809240Z",
          "iopub.execute_input": "2021-07-15T08:58:31.809826Z",
          "iopub.status.idle": "2021-07-15T08:58:31.822037Z",
          "shell.execute_reply.started": "2021-07-15T08:58:31.809777Z",
          "shell.execute_reply": "2021-07-15T08:58:31.820516Z"
        },
        "trusted": true,
        "id": "qZBT58bSC-F6",
        "outputId": "ecc5d10d-b2a4-422f-a881-cce770cd3c56"
      },
      "source": [
        "#Creating Embeddings\n",
        "\n",
        "from tensorflow.keras import layers\n",
        "\n",
        "embedding = layers.Embedding(input_dim = max_vocab_length, output_dim = 128, embeddings_initializer= \"uniform\", input_length = max_length)\n",
        "# set input shape\n",
        "#set size of embedding vector\n",
        "#default\n",
        "#how long is each input\n",
        "embedding"
      ],
      "execution_count": null,
      "outputs": [
        {
          "output_type": "execute_result",
          "data": {
            "text/plain": [
              "<tensorflow.python.keras.layers.embeddings.Embedding at 0x7fd55c5b5a50>"
            ]
          },
          "metadata": {
            "tags": []
          },
          "execution_count": 41
        }
      ]
    },
    {
      "cell_type": "code",
      "metadata": {
        "execution": {
          "iopub.status.busy": "2021-07-15T09:00:46.009949Z",
          "iopub.execute_input": "2021-07-15T09:00:46.010624Z",
          "iopub.status.idle": "2021-07-15T09:00:46.057657Z",
          "shell.execute_reply.started": "2021-07-15T09:00:46.010571Z",
          "shell.execute_reply": "2021-07-15T09:00:46.056416Z"
        },
        "trusted": true,
        "id": "SVSYwwEzC-F7",
        "outputId": "9584cbab-4b9c-42dc-9624-a9d6db996ca1"
      },
      "source": [
        "random_sentence = random.choice(train_sentences)\n",
        "print(f\"Original text:\\n{random_sentence}\\n\\nEmbedded version\")\n",
        "\n",
        "\n",
        "#Embed the random sentence (turn it into numerical representation)\n",
        "sample_embed = embedding(text_vectorizer([random_sentence]))\n",
        "sample_embed"
      ],
      "execution_count": null,
      "outputs": [
        {
          "output_type": "stream",
          "text": [
            "Original text:\n",
            "Why did God order obliteration of ancient Canaanites? http://t.co/Sf2vwQvJYa\n",
            "\n",
            "Embedded version\n"
          ],
          "name": "stdout"
        },
        {
          "output_type": "execute_result",
          "data": {
            "text/plain": [
              "<tf.Tensor: shape=(1, 15, 128), dtype=float32, numpy=\n",
              "array([[[-0.03942269, -0.04073756, -0.02714663, ...,  0.02677531,\n",
              "          0.01195153, -0.037313  ],\n",
              "        [ 0.02047745, -0.02380016, -0.00914843, ...,  0.00224603,\n",
              "         -0.02398517, -0.03503678],\n",
              "        [-0.01894419, -0.00055505, -0.0007857 , ...,  0.00717359,\n",
              "         -0.00910251,  0.03148905],\n",
              "        ...,\n",
              "        [ 0.04196638,  0.02324572, -0.01810043, ...,  0.03094679,\n",
              "          0.04819911, -0.02932531],\n",
              "        [ 0.04196638,  0.02324572, -0.01810043, ...,  0.03094679,\n",
              "          0.04819911, -0.02932531],\n",
              "        [ 0.04196638,  0.02324572, -0.01810043, ...,  0.03094679,\n",
              "          0.04819911, -0.02932531]]], dtype=float32)>"
            ]
          },
          "metadata": {
            "tags": []
          },
          "execution_count": 43
        }
      ]
    },
    {
      "cell_type": "markdown",
      "metadata": {
        "id": "cxBI8e6SC-F7"
      },
      "source": [
        "**Model 0: Getting a baseline**"
      ]
    },
    {
      "cell_type": "code",
      "metadata": {
        "execution": {
          "iopub.status.busy": "2021-07-15T09:05:12.169750Z",
          "iopub.execute_input": "2021-07-15T09:05:12.170118Z",
          "iopub.status.idle": "2021-07-15T09:05:12.395525Z",
          "shell.execute_reply.started": "2021-07-15T09:05:12.170086Z",
          "shell.execute_reply": "2021-07-15T09:05:12.394759Z"
        },
        "trusted": true,
        "id": "4dnIoPwrC-F7",
        "outputId": "37855a51-9c7a-4b32-ab5e-a1a61a020337"
      },
      "source": [
        "from sklearn.feature_extraction.text import TfidfVectorizer\n",
        "from sklearn.naive_bayes import MultinomialNB\n",
        "from sklearn.pipeline import Pipeline\n",
        "\n",
        "#Create tokenization and modeling pipeline\n",
        "\n",
        "model_0 = Pipeline([(\"tfidf\", TfidfVectorizer()), (\"clf\", MultinomialNB())])\n",
        "\n",
        "model_0.fit(train_sentences, train_labels)"
      ],
      "execution_count": null,
      "outputs": [
        {
          "output_type": "execute_result",
          "data": {
            "text/plain": [
              "Pipeline(steps=[('tfidf', TfidfVectorizer()), ('clf', MultinomialNB())])"
            ]
          },
          "metadata": {
            "tags": []
          },
          "execution_count": 45
        }
      ]
    },
    {
      "cell_type": "code",
      "metadata": {
        "execution": {
          "iopub.status.busy": "2021-07-15T09:06:33.589331Z",
          "iopub.execute_input": "2021-07-15T09:06:33.590013Z",
          "iopub.status.idle": "2021-07-15T09:06:33.640453Z",
          "shell.execute_reply.started": "2021-07-15T09:06:33.589945Z",
          "shell.execute_reply": "2021-07-15T09:06:33.639317Z"
        },
        "trusted": true,
        "id": "s-9hkEYVC-F8",
        "outputId": "eada4553-301d-401a-ccb8-a71a35354b04"
      },
      "source": [
        "baeline_score = model_0.score(val_sentences, val_labels)\n",
        "print(f\"Accuracy percentage: {baeline_score*100: .2f}%\")"
      ],
      "execution_count": null,
      "outputs": [
        {
          "output_type": "stream",
          "text": [
            "Accuracy percentage:  79.91%\n"
          ],
          "name": "stdout"
        }
      ]
    },
    {
      "cell_type": "code",
      "metadata": {
        "execution": {
          "iopub.status.busy": "2021-07-15T09:07:06.124296Z",
          "iopub.execute_input": "2021-07-15T09:07:06.124712Z",
          "iopub.status.idle": "2021-07-15T09:07:06.172754Z",
          "shell.execute_reply.started": "2021-07-15T09:07:06.124676Z",
          "shell.execute_reply": "2021-07-15T09:07:06.172057Z"
        },
        "trusted": true,
        "id": "av7NTSz3C-F8",
        "outputId": "dc81a3ae-d9c3-42d7-d2bd-552dcb3bfaa1"
      },
      "source": [
        "# Make predictions\n",
        "baseline_preds = model_0.predict(val_sentences)\n",
        "baseline_preds[:20]"
      ],
      "execution_count": null,
      "outputs": [
        {
          "output_type": "execute_result",
          "data": {
            "text/plain": [
              "array([1, 1, 1, 0, 0, 1, 1, 1, 1, 0, 0, 1, 0, 0, 0, 0, 0, 0, 0, 1])"
            ]
          },
          "metadata": {
            "tags": []
          },
          "execution_count": 47
        }
      ]
    },
    {
      "cell_type": "code",
      "metadata": {
        "execution": {
          "iopub.status.busy": "2021-07-15T09:12:08.599496Z",
          "iopub.execute_input": "2021-07-15T09:12:08.600096Z",
          "iopub.status.idle": "2021-07-15T09:12:08.607241Z",
          "shell.execute_reply.started": "2021-07-15T09:12:08.600050Z",
          "shell.execute_reply": "2021-07-15T09:12:08.606128Z"
        },
        "trusted": true,
        "id": "RkxFzm7_C-F8"
      },
      "source": [
        "#Functions to evaulate: accuracy, precision, recall, f1-score\n",
        "\n",
        "from sklearn.metrics import accuracy_score, precision_recall_fscore_support\n",
        "\n",
        "def calculate_results(y_true, y_pred):\n",
        "    #Model Accuracy, precision\n",
        "    model_accuracy = accuracy_score(y_true, y_pred)*100\n",
        "    \n",
        "    #model precision, recall and f1 score\n",
        "    model_precision, model_recall, model_f1, _ = precision_recall_fscore_support(y_true, y_pred, average=\"weighted\")\n",
        "    model_results = {\"accuracy\": model_accuracy,\n",
        "                  \"precision\": model_precision,\n",
        "                  \"recall\": model_recall,\n",
        "                  \"f1\": model_f1}\n",
        "    return model_results\n",
        "    \n"
      ],
      "execution_count": null,
      "outputs": []
    },
    {
      "cell_type": "code",
      "metadata": {
        "execution": {
          "iopub.status.busy": "2021-07-15T09:13:04.065197Z",
          "iopub.execute_input": "2021-07-15T09:13:04.065645Z",
          "iopub.status.idle": "2021-07-15T09:13:04.074234Z",
          "shell.execute_reply.started": "2021-07-15T09:13:04.065578Z",
          "shell.execute_reply": "2021-07-15T09:13:04.072673Z"
        },
        "trusted": true,
        "id": "JlLI2cbOC-F8"
      },
      "source": [
        "baseline_results = calculate_results(y_true = val_labels, y_pred = baseline_preds)"
      ],
      "execution_count": null,
      "outputs": []
    },
    {
      "cell_type": "code",
      "metadata": {
        "execution": {
          "iopub.status.busy": "2021-07-15T09:13:13.034330Z",
          "iopub.execute_input": "2021-07-15T09:13:13.034770Z",
          "iopub.status.idle": "2021-07-15T09:13:13.041058Z",
          "shell.execute_reply.started": "2021-07-15T09:13:13.034736Z",
          "shell.execute_reply": "2021-07-15T09:13:13.040172Z"
        },
        "trusted": true,
        "id": "e6HruoWmC-F9",
        "outputId": "04ba6031-a2b0-4f3a-bca1-8d70c8e5ad1e"
      },
      "source": [
        "baseline_results"
      ],
      "execution_count": null,
      "outputs": [
        {
          "output_type": "execute_result",
          "data": {
            "text/plain": [
              "{'accuracy': 79.9080761654629,\n",
              " 'precision': 0.8146358812834972,\n",
              " 'recall': 0.799080761654629,\n",
              " 'f1': 0.7920155324845473}"
            ]
          },
          "metadata": {
            "tags": []
          },
          "execution_count": 51
        }
      ]
    },
    {
      "cell_type": "code",
      "metadata": {
        "execution": {
          "iopub.status.busy": "2021-07-15T09:56:43.988743Z",
          "iopub.execute_input": "2021-07-15T09:56:43.989144Z",
          "iopub.status.idle": "2021-07-15T09:56:43.995817Z",
          "shell.execute_reply.started": "2021-07-15T09:56:43.989111Z",
          "shell.execute_reply": "2021-07-15T09:56:43.994201Z"
        },
        "trusted": true,
        "id": "Ck6t4Ii8C-F9"
      },
      "source": [
        "import datetime\n",
        "def create_tensorboard_callback(dir_name, experiment_name):\n",
        "  \"\"\"\n",
        "  Creates a TensorBoard callback instand to store log files.\n",
        "  Stores log files with the filepath:\n",
        "    \"dir_name/experiment_name/current_datetime/\"\n",
        "  Args:\n",
        "    dir_name: target directory to store TensorBoard log files\n",
        "    experiment_name: name of experiment directory (e.g. efficientnet_model_1)\n",
        "  \"\"\"\n",
        "  log_dir = dir_name + \"/\" + experiment_name + \"/\" + datetime.datetime.now().strftime(\"%Y%m%d-%H%M%S\")\n",
        "  tensorboard_callback = tf.keras.callbacks.TensorBoard(\n",
        "      log_dir=log_dir\n",
        "  )\n",
        "  print(f\"Saving TensorBoard log files to: {log_dir}\")\n",
        "  return tensorboard_callback\n"
      ],
      "execution_count": null,
      "outputs": []
    },
    {
      "cell_type": "code",
      "metadata": {
        "execution": {
          "iopub.status.busy": "2021-07-15T09:56:46.313347Z",
          "iopub.execute_input": "2021-07-15T09:56:46.313816Z",
          "iopub.status.idle": "2021-07-15T09:56:46.317895Z",
          "shell.execute_reply.started": "2021-07-15T09:56:46.313778Z",
          "shell.execute_reply": "2021-07-15T09:56:46.316889Z"
        },
        "trusted": true,
        "id": "Dk-h2qc-C-F9"
      },
      "source": [
        "#Create directory to save TensorBoard Logs\n",
        "Save_dir = \"model_logs\""
      ],
      "execution_count": null,
      "outputs": []
    },
    {
      "cell_type": "code",
      "metadata": {
        "execution": {
          "iopub.status.busy": "2021-07-15T09:58:00.009838Z",
          "iopub.execute_input": "2021-07-15T09:58:00.010444Z",
          "iopub.status.idle": "2021-07-15T09:58:00.078512Z",
          "shell.execute_reply.started": "2021-07-15T09:58:00.010392Z",
          "shell.execute_reply": "2021-07-15T09:58:00.077661Z"
        },
        "trusted": true,
        "id": "OpcaGcpVC-F9"
      },
      "source": [
        "# Build a model with functional API\n",
        "from tensorflow.keras import layers\n",
        "\n",
        "inputs = layers.Input(shape = (1,), dtype = \"string\")\n",
        "\n",
        "x = text_vectorizer(inputs)\n",
        "x = embedding(x)\n",
        "x = layers.GlobalAveragePooling1D()(x)\n",
        "outputs = layers.Dense(1,activation = \"sigmoid\")(x)\n",
        "model_1 = tf.keras.Model(inputs, outputs, name=\"model_1_dense\") # construct the model"
      ],
      "execution_count": null,
      "outputs": []
    },
    {
      "cell_type": "code",
      "metadata": {
        "execution": {
          "iopub.status.busy": "2021-07-15T09:58:00.949518Z",
          "iopub.execute_input": "2021-07-15T09:58:00.950114Z",
          "iopub.status.idle": "2021-07-15T09:58:00.965524Z",
          "shell.execute_reply.started": "2021-07-15T09:58:00.950055Z",
          "shell.execute_reply": "2021-07-15T09:58:00.964474Z"
        },
        "trusted": true,
        "id": "rVUO14p8C-F9"
      },
      "source": [
        "# Compile model\n",
        "model_1.compile(loss=\"binary_crossentropy\",\n",
        "                optimizer=tf.keras.optimizers.Adam(),\n",
        "                metrics=[\"accuracy\"])"
      ],
      "execution_count": null,
      "outputs": []
    },
    {
      "cell_type": "code",
      "metadata": {
        "execution": {
          "iopub.status.busy": "2021-07-15T09:58:02.273172Z",
          "iopub.execute_input": "2021-07-15T09:58:02.273593Z",
          "iopub.status.idle": "2021-07-15T09:58:02.284131Z",
          "shell.execute_reply.started": "2021-07-15T09:58:02.273558Z",
          "shell.execute_reply": "2021-07-15T09:58:02.282904Z"
        },
        "trusted": true,
        "id": "AtM4tGyhC-F9",
        "outputId": "752d6a01-98ff-43e2-db3e-e32b1524fd10"
      },
      "source": [
        "#Getting a summary\n",
        "\n",
        "model_1.summary()"
      ],
      "execution_count": null,
      "outputs": [
        {
          "output_type": "stream",
          "text": [
            "Model: \"model_1_dense\"\n",
            "_________________________________________________________________\n",
            "Layer (type)                 Output Shape              Param #   \n",
            "=================================================================\n",
            "input_4 (InputLayer)         [(None, 1)]               0         \n",
            "_________________________________________________________________\n",
            "text_vectorization_1 (TextVe (None, 15)                0         \n",
            "_________________________________________________________________\n",
            "embedding (Embedding)        (None, 15, 128)           1280000   \n",
            "_________________________________________________________________\n",
            "global_average_pooling1d (Gl (None, 128)               0         \n",
            "_________________________________________________________________\n",
            "dense_2 (Dense)              (None, 1)                 129       \n",
            "=================================================================\n",
            "Total params: 1,280,129\n",
            "Trainable params: 1,280,129\n",
            "Non-trainable params: 0\n",
            "_________________________________________________________________\n"
          ],
          "name": "stdout"
        }
      ]
    },
    {
      "cell_type": "code",
      "metadata": {
        "execution": {
          "iopub.status.busy": "2021-07-15T09:58:03.348385Z",
          "iopub.execute_input": "2021-07-15T09:58:03.348730Z",
          "iopub.status.idle": "2021-07-15T09:58:18.121868Z",
          "shell.execute_reply.started": "2021-07-15T09:58:03.348700Z",
          "shell.execute_reply": "2021-07-15T09:58:18.120611Z"
        },
        "trusted": true,
        "id": "Y7CtyVOMC-F-",
        "outputId": "b21c36d1-0665-48e3-d712-2fc622c04a05"
      },
      "source": [
        "#Fit the model\n",
        "model_1_history = model_1.fit(train_sentences, train_labels, epochs = 5, validation_data = (val_sentences, val_labels), callbacks = [create_tensorboard_callback(dir_name = Save_dir, experiment_name = \"simple_dense_model\")])"
      ],
      "execution_count": null,
      "outputs": [
        {
          "output_type": "stream",
          "text": [
            "Saving TensorBoard log files to: model_logs/simple_dense_model/20210715-095803\n",
            "Epoch 1/5\n",
            "191/191 [==============================] - 4s 16ms/step - loss: 0.6059 - accuracy: 0.7984 - val_loss: 0.5233 - val_accuracy: 0.7695\n",
            "Epoch 2/5\n",
            "191/191 [==============================] - 3s 14ms/step - loss: 0.4115 - accuracy: 0.8581 - val_loss: 0.4681 - val_accuracy: 0.7905\n",
            "Epoch 3/5\n",
            "191/191 [==============================] - 3s 14ms/step - loss: 0.3230 - accuracy: 0.8880 - val_loss: 0.4570 - val_accuracy: 0.7919\n",
            "Epoch 4/5\n",
            "191/191 [==============================] - 3s 14ms/step - loss: 0.2626 - accuracy: 0.9045 - val_loss: 0.4607 - val_accuracy: 0.7938\n",
            "Epoch 5/5\n",
            "191/191 [==============================] - 3s 14ms/step - loss: 0.2200 - accuracy: 0.9238 - val_loss: 0.4732 - val_accuracy: 0.7938\n"
          ],
          "name": "stdout"
        }
      ]
    },
    {
      "cell_type": "code",
      "metadata": {
        "execution": {
          "iopub.status.busy": "2021-07-15T09:58:56.869007Z",
          "iopub.execute_input": "2021-07-15T09:58:56.869529Z",
          "iopub.status.idle": "2021-07-15T09:58:57.013447Z",
          "shell.execute_reply.started": "2021-07-15T09:58:56.869487Z",
          "shell.execute_reply": "2021-07-15T09:58:57.012242Z"
        },
        "trusted": true,
        "id": "lbv22sc0C-F-",
        "outputId": "0589acc3-35f2-4c16-ad09-6a57b9e327df"
      },
      "source": [
        "#Check the results\n",
        "model_1.evaluate(val_sentences, val_labels)"
      ],
      "execution_count": null,
      "outputs": [
        {
          "output_type": "stream",
          "text": [
            "48/48 [==============================] - 0s 2ms/step - loss: 0.4732 - accuracy: 0.7938\n"
          ],
          "name": "stdout"
        },
        {
          "output_type": "execute_result",
          "data": {
            "text/plain": [
              "[0.47319936752319336, 0.7938279509544373]"
            ]
          },
          "metadata": {
            "tags": []
          },
          "execution_count": 75
        }
      ]
    },
    {
      "cell_type": "code",
      "metadata": {
        "execution": {
          "iopub.status.busy": "2021-07-15T10:03:28.869968Z",
          "iopub.execute_input": "2021-07-15T10:03:28.870514Z",
          "iopub.status.idle": "2021-07-15T10:03:29.133084Z",
          "shell.execute_reply.started": "2021-07-15T10:03:28.870479Z",
          "shell.execute_reply": "2021-07-15T10:03:29.132109Z"
        },
        "trusted": true,
        "id": "2YPDmu5BC-F-"
      },
      "source": [
        "##Make Predictions\n",
        "\n",
        "model_1_pred_probs = model_1.predict(val_sentences)"
      ],
      "execution_count": null,
      "outputs": []
    },
    {
      "cell_type": "code",
      "metadata": {
        "execution": {
          "iopub.status.busy": "2021-07-15T10:04:41.588702Z",
          "iopub.execute_input": "2021-07-15T10:04:41.589288Z",
          "iopub.status.idle": "2021-07-15T10:04:41.600822Z",
          "shell.execute_reply.started": "2021-07-15T10:04:41.589253Z",
          "shell.execute_reply": "2021-07-15T10:04:41.599921Z"
        },
        "trusted": true,
        "id": "TfhJ5WfQC-F-",
        "outputId": "31466d91-992a-4c8e-c1e3-f7727c50dcc8"
      },
      "source": [
        "#Turn Prediction probabilities into single dimension tensor of floats\n",
        "\n",
        "model_1_preds = tf.squeeze(tf.round(model_1_pred_probs))\n",
        "\n",
        "model_1_preds[:20]"
      ],
      "execution_count": null,
      "outputs": [
        {
          "output_type": "execute_result",
          "data": {
            "text/plain": [
              "<tf.Tensor: shape=(20,), dtype=float32, numpy=\n",
              "array([0., 1., 1., 0., 0., 1., 1., 1., 1., 0., 0., 1., 0., 0., 0., 0., 0.,\n",
              "       0., 0., 0.], dtype=float32)>"
            ]
          },
          "metadata": {
            "tags": []
          },
          "execution_count": 80
        }
      ]
    },
    {
      "cell_type": "code",
      "metadata": {
        "execution": {
          "iopub.status.busy": "2021-07-15T10:05:39.653582Z",
          "iopub.execute_input": "2021-07-15T10:05:39.654193Z",
          "iopub.status.idle": "2021-07-15T10:05:39.665303Z",
          "shell.execute_reply.started": "2021-07-15T10:05:39.654140Z",
          "shell.execute_reply": "2021-07-15T10:05:39.664342Z"
        },
        "trusted": true,
        "id": "mwf87eGhC-F-",
        "outputId": "6b6d076f-eaee-4299-d6eb-0ac92df89b1b"
      },
      "source": [
        "#Calculating model_1 metrics\n",
        "\n",
        "model_1_results = calculate_results(y_true = val_labels, y_pred = model_1_preds)\n",
        "\n",
        "model_1_results"
      ],
      "execution_count": null,
      "outputs": [
        {
          "output_type": "execute_result",
          "data": {
            "text/plain": [
              "{'accuracy': 79.3827971109652,\n",
              " 'precision': 0.7970938846184263,\n",
              " 'recall': 0.793827971109652,\n",
              " 'f1': 0.7904241228617522}"
            ]
          },
          "metadata": {
            "tags": []
          },
          "execution_count": 82
        }
      ]
    },
    {
      "cell_type": "code",
      "metadata": {
        "execution": {
          "iopub.status.busy": "2021-07-15T10:06:27.469889Z",
          "iopub.execute_input": "2021-07-15T10:06:27.470423Z",
          "iopub.status.idle": "2021-07-15T10:06:27.476458Z",
          "shell.execute_reply.started": "2021-07-15T10:06:27.470390Z",
          "shell.execute_reply": "2021-07-15T10:06:27.475646Z"
        },
        "trusted": true,
        "id": "nA6qY_BOC-F_",
        "outputId": "90351e4e-9f35-49b8-eb65-a461abc8dc68"
      },
      "source": [
        "# Create a helper function to compare our baseline results to new model results\n",
        "def compare_baseline_to_new_results(baseline_results, new_model_results):\n",
        "  for key, value in baseline_results.items():\n",
        "    print(f\"Baseline {key}: {value:.2f}, New {key}: {new_model_results[key]:.2f}, Difference: {new_model_results[key]-value:.2f}\")\n",
        "\n",
        "compare_baseline_to_new_results(baseline_results=baseline_results, \n",
        "                                new_model_results=model_1_results)"
      ],
      "execution_count": null,
      "outputs": [
        {
          "output_type": "stream",
          "text": [
            "Baseline accuracy: 79.91, New accuracy: 79.38, Difference: -0.53\n",
            "Baseline precision: 0.81, New precision: 0.80, Difference: -0.02\n",
            "Baseline recall: 0.80, New recall: 0.79, Difference: -0.01\n",
            "Baseline f1: 0.79, New f1: 0.79, Difference: -0.00\n"
          ],
          "name": "stdout"
        }
      ]
    },
    {
      "cell_type": "code",
      "metadata": {
        "execution": {
          "iopub.status.busy": "2021-07-15T10:06:48.930733Z",
          "iopub.execute_input": "2021-07-15T10:06:48.931146Z",
          "iopub.status.idle": "2021-07-15T10:06:48.972029Z",
          "shell.execute_reply.started": "2021-07-15T10:06:48.931108Z",
          "shell.execute_reply": "2021-07-15T10:06:48.970710Z"
        },
        "trusted": true,
        "id": "Kb1KvForC-F_",
        "outputId": "021636fe-fd6b-4e0a-9892-0ac32f8df526"
      },
      "source": [
        "# Get the vocabulary from the text vectorization layer\n",
        "words_in_vocab = text_vectorizer.get_vocabulary()\n",
        "len(words_in_vocab), words_in_vocab[:10]"
      ],
      "execution_count": null,
      "outputs": [
        {
          "output_type": "execute_result",
          "data": {
            "text/plain": [
              "(10000, ['', '[UNK]', 'the', 'a', 'in', 'to', 'of', 'and', 'i', 'is'])"
            ]
          },
          "metadata": {
            "tags": []
          },
          "execution_count": 84
        }
      ]
    },
    {
      "cell_type": "code",
      "metadata": {
        "execution": {
          "iopub.status.busy": "2021-07-15T10:07:15.965961Z",
          "iopub.execute_input": "2021-07-15T10:07:15.966385Z",
          "iopub.status.idle": "2021-07-15T10:07:15.977401Z",
          "shell.execute_reply.started": "2021-07-15T10:07:15.966336Z",
          "shell.execute_reply": "2021-07-15T10:07:15.976421Z"
        },
        "trusted": true,
        "id": "oZxLpJ5eC-F_",
        "outputId": "6b1867af-209b-4abb-d43d-c7a0de3cd885"
      },
      "source": [
        "model_1.summary()"
      ],
      "execution_count": null,
      "outputs": [
        {
          "output_type": "stream",
          "text": [
            "Model: \"model_1_dense\"\n",
            "_________________________________________________________________\n",
            "Layer (type)                 Output Shape              Param #   \n",
            "=================================================================\n",
            "input_4 (InputLayer)         [(None, 1)]               0         \n",
            "_________________________________________________________________\n",
            "text_vectorization_1 (TextVe (None, 15)                0         \n",
            "_________________________________________________________________\n",
            "embedding (Embedding)        (None, 15, 128)           1280000   \n",
            "_________________________________________________________________\n",
            "global_average_pooling1d (Gl (None, 128)               0         \n",
            "_________________________________________________________________\n",
            "dense_2 (Dense)              (None, 1)                 129       \n",
            "=================================================================\n",
            "Total params: 1,280,129\n",
            "Trainable params: 1,280,129\n",
            "Non-trainable params: 0\n",
            "_________________________________________________________________\n"
          ],
          "name": "stdout"
        }
      ]
    },
    {
      "cell_type": "code",
      "metadata": {
        "execution": {
          "iopub.status.busy": "2021-07-15T10:08:18.255986Z",
          "iopub.execute_input": "2021-07-15T10:08:18.256335Z",
          "iopub.status.idle": "2021-07-15T10:08:18.269512Z",
          "shell.execute_reply.started": "2021-07-15T10:08:18.256305Z",
          "shell.execute_reply": "2021-07-15T10:08:18.268154Z"
        },
        "trusted": true,
        "id": "3toyN6t-C-F_",
        "outputId": "c0390d8d-1ff7-4e79-828d-ba5a2549bd11"
      },
      "source": [
        "#Get the weight matrix of embedding layer\n",
        "embed_weights = model_1.get_layer(\"embedding\").get_weights()[0]\n",
        "print(embed_weights.shape)"
      ],
      "execution_count": null,
      "outputs": [
        {
          "output_type": "stream",
          "text": [
            "(10000, 128)\n"
          ],
          "name": "stdout"
        }
      ]
    },
    {
      "cell_type": "markdown",
      "metadata": {
        "id": "h6R-oVMuC-GA"
      },
      "source": [
        "**Model 2**"
      ]
    },
    {
      "cell_type": "code",
      "metadata": {
        "execution": {
          "iopub.status.busy": "2021-07-15T10:17:14.565518Z",
          "iopub.execute_input": "2021-07-15T10:17:14.566108Z",
          "iopub.status.idle": "2021-07-15T10:17:14.871980Z",
          "shell.execute_reply.started": "2021-07-15T10:17:14.566052Z",
          "shell.execute_reply": "2021-07-15T10:17:14.870690Z"
        },
        "trusted": true,
        "id": "g0jDOL55C-GA",
        "outputId": "26abf47e-66c0-4b6b-bde3-7e287a47dc58"
      },
      "source": [
        "# Create LSTM Model\n",
        "\n",
        "from tensorflow.keras import layers\n",
        "inputs = layers.Input(shape = (1,), dtype = \"string\")\n",
        "x = text_vectorizer(inputs)\n",
        "x = embedding(x)\n",
        "print(x.shape)\n",
        "\n",
        "# x = layers.LSTM(64, return_sequences=True)(x) # return vector for each word in the Tweet (you can stack RNN cells as long as return_sequences=True)\n",
        "\n",
        "x = layers.LSTM(64)(x)\n",
        "print(x.shape)\n",
        "\n",
        "outputs = layers.Dense(1, activation = \"sigmoid\")(x)\n",
        "\n",
        "model_2 = tf.keras.Model(inputs, outputs, name = \"model_2_LSTM\")"
      ],
      "execution_count": null,
      "outputs": [
        {
          "output_type": "stream",
          "text": [
            "(None, 15, 128)\n",
            "(None, 64)\n"
          ],
          "name": "stdout"
        }
      ]
    },
    {
      "cell_type": "code",
      "metadata": {
        "execution": {
          "iopub.status.busy": "2021-07-15T10:19:00.976033Z",
          "iopub.execute_input": "2021-07-15T10:19:00.976490Z",
          "iopub.status.idle": "2021-07-15T10:19:00.993106Z",
          "shell.execute_reply.started": "2021-07-15T10:19:00.976452Z",
          "shell.execute_reply": "2021-07-15T10:19:00.992013Z"
        },
        "trusted": true,
        "id": "WSR_7yKEC-GA"
      },
      "source": [
        "#Compile Model\n",
        "\n",
        "model_2.compile(loss = \"binary_crossentropy\", optimizer = tf.keras.optimizers.Adam(), metrics = [\"accuracy\"])"
      ],
      "execution_count": null,
      "outputs": []
    },
    {
      "cell_type": "code",
      "metadata": {
        "execution": {
          "iopub.status.busy": "2021-07-15T10:19:20.735399Z",
          "iopub.execute_input": "2021-07-15T10:19:20.735739Z",
          "iopub.status.idle": "2021-07-15T10:19:20.746706Z",
          "shell.execute_reply.started": "2021-07-15T10:19:20.735708Z",
          "shell.execute_reply": "2021-07-15T10:19:20.745436Z"
        },
        "trusted": true,
        "id": "n1G2oi4QC-GA",
        "outputId": "4b667b45-16b0-4a29-b5aa-854680528555"
      },
      "source": [
        "model_2.summary()"
      ],
      "execution_count": null,
      "outputs": [
        {
          "output_type": "stream",
          "text": [
            "Model: \"model_2_LSTM\"\n",
            "_________________________________________________________________\n",
            "Layer (type)                 Output Shape              Param #   \n",
            "=================================================================\n",
            "input_9 (InputLayer)         [(None, 1)]               0         \n",
            "_________________________________________________________________\n",
            "text_vectorization_1 (TextVe (None, 15)                0         \n",
            "_________________________________________________________________\n",
            "embedding (Embedding)        (None, 15, 128)           1280000   \n",
            "_________________________________________________________________\n",
            "lstm_2 (LSTM)                (None, 64)                49408     \n",
            "_________________________________________________________________\n",
            "dense_4 (Dense)              (None, 1)                 65        \n",
            "=================================================================\n",
            "Total params: 1,329,473\n",
            "Trainable params: 1,329,473\n",
            "Non-trainable params: 0\n",
            "_________________________________________________________________\n"
          ],
          "name": "stdout"
        }
      ]
    },
    {
      "cell_type": "code",
      "metadata": {
        "execution": {
          "iopub.status.busy": "2021-07-15T10:22:21.325604Z",
          "iopub.execute_input": "2021-07-15T10:22:21.326164Z",
          "iopub.status.idle": "2021-07-15T10:22:48.017404Z",
          "shell.execute_reply.started": "2021-07-15T10:22:21.326115Z",
          "shell.execute_reply": "2021-07-15T10:22:48.016153Z"
        },
        "trusted": true,
        "id": "f1xv4LOTC-GB",
        "outputId": "122f3129-4b89-46a3-c288-0c8867ddf07e"
      },
      "source": [
        "#Fit Model\n",
        "\n",
        "model_2_history = model_2.fit(train_sentences, train_labels, epochs = 5, validation_data =(val_sentences, val_labels),\n",
        "                              callbacks=[create_tensorboard_callback(Save_dir,\"LSTM\")]) "
      ],
      "execution_count": null,
      "outputs": [
        {
          "output_type": "stream",
          "text": [
            "Saving TensorBoard log files to: model_logs/LSTM/20210715-102221\n",
            "Epoch 1/5\n",
            "191/191 [==============================] - 7s 29ms/step - loss: 0.2755 - accuracy: 0.9199 - val_loss: 0.6066 - val_accuracy: 0.7768\n",
            "Epoch 2/5\n",
            "191/191 [==============================] - 5s 26ms/step - loss: 0.1150 - accuracy: 0.9586 - val_loss: 0.6477 - val_accuracy: 0.7919\n",
            "Epoch 3/5\n",
            "191/191 [==============================] - 5s 25ms/step - loss: 0.0839 - accuracy: 0.9684 - val_loss: 0.7750 - val_accuracy: 0.7807\n",
            "Epoch 4/5\n",
            "191/191 [==============================] - 5s 25ms/step - loss: 0.0698 - accuracy: 0.9725 - val_loss: 0.9904 - val_accuracy: 0.7774\n",
            "Epoch 5/5\n",
            "191/191 [==============================] - 5s 25ms/step - loss: 0.0555 - accuracy: 0.9759 - val_loss: 1.1262 - val_accuracy: 0.7787\n"
          ],
          "name": "stdout"
        }
      ]
    },
    {
      "cell_type": "code",
      "metadata": {
        "execution": {
          "iopub.status.busy": "2021-07-15T10:23:52.066129Z",
          "iopub.execute_input": "2021-07-15T10:23:52.066578Z",
          "iopub.status.idle": "2021-07-15T10:23:52.799051Z",
          "shell.execute_reply.started": "2021-07-15T10:23:52.066543Z",
          "shell.execute_reply": "2021-07-15T10:23:52.797847Z"
        },
        "trusted": true,
        "id": "HFb5_jyDC-GB"
      },
      "source": [
        "# Make predictions on the validation dataset\n",
        "model_2_pred_probs = model_2.predict(val_sentences)"
      ],
      "execution_count": null,
      "outputs": []
    },
    {
      "cell_type": "code",
      "metadata": {
        "execution": {
          "iopub.status.busy": "2021-07-15T10:24:00.976019Z",
          "iopub.execute_input": "2021-07-15T10:24:00.976378Z",
          "iopub.status.idle": "2021-07-15T10:24:00.982215Z",
          "shell.execute_reply.started": "2021-07-15T10:24:00.976333Z",
          "shell.execute_reply": "2021-07-15T10:24:00.981035Z"
        },
        "trusted": true,
        "id": "NOmXmaDpC-GB"
      },
      "source": [
        "# Round out predictions and reduce to 1-dimensional array\n",
        "model_2_preds = tf.squeeze(tf.round(model_2_pred_probs))"
      ],
      "execution_count": null,
      "outputs": []
    },
    {
      "cell_type": "code",
      "metadata": {
        "execution": {
          "iopub.status.busy": "2021-07-15T10:24:14.785977Z",
          "iopub.execute_input": "2021-07-15T10:24:14.786362Z",
          "iopub.status.idle": "2021-07-15T10:24:14.796496Z",
          "shell.execute_reply.started": "2021-07-15T10:24:14.786317Z",
          "shell.execute_reply": "2021-07-15T10:24:14.795400Z"
        },
        "trusted": true,
        "id": "52XPSuiFC-GB",
        "outputId": "ff34fea5-284a-490b-8fbf-90089756032b"
      },
      "source": [
        "\n",
        "# Calculate LSTM model results\n",
        "model_2_results = calculate_results(y_true=val_labels,\n",
        "                                    y_pred=model_2_preds)\n",
        "model_2_results"
      ],
      "execution_count": null,
      "outputs": [
        {
          "output_type": "execute_result",
          "data": {
            "text/plain": [
              "{'accuracy': 77.8726198292843,\n",
              " 'precision': 0.7784613325959734,\n",
              " 'recall': 0.7787261982928431,\n",
              " 'f1': 0.7769490360712006}"
            ]
          },
          "metadata": {
            "tags": []
          },
          "execution_count": 99
        }
      ]
    },
    {
      "cell_type": "code",
      "metadata": {
        "execution": {
          "iopub.status.busy": "2021-07-15T10:24:23.045145Z",
          "iopub.execute_input": "2021-07-15T10:24:23.045751Z",
          "iopub.status.idle": "2021-07-15T10:24:23.051418Z",
          "shell.execute_reply.started": "2021-07-15T10:24:23.045715Z",
          "shell.execute_reply": "2021-07-15T10:24:23.050218Z"
        },
        "trusted": true,
        "id": "Du3NMAQLC-GB",
        "outputId": "bc0b3966-e94d-4d88-ca40-7279a8b7c9ae"
      },
      "source": [
        "# Compare model 2 to baseline\n",
        "compare_baseline_to_new_results(baseline_results, model_2_results)"
      ],
      "execution_count": null,
      "outputs": [
        {
          "output_type": "stream",
          "text": [
            "Baseline accuracy: 79.91, New accuracy: 77.87, Difference: -2.04\n",
            "Baseline precision: 0.81, New precision: 0.78, Difference: -0.04\n",
            "Baseline recall: 0.80, New recall: 0.78, Difference: -0.02\n",
            "Baseline f1: 0.79, New f1: 0.78, Difference: -0.02\n"
          ],
          "name": "stdout"
        }
      ]
    },
    {
      "cell_type": "markdown",
      "metadata": {
        "id": "HTp3ATbRC-GB"
      },
      "source": [
        "**MODEL 3**"
      ]
    },
    {
      "cell_type": "code",
      "metadata": {
        "execution": {
          "iopub.status.busy": "2021-07-15T10:25:11.155157Z",
          "iopub.execute_input": "2021-07-15T10:25:11.155611Z",
          "iopub.status.idle": "2021-07-15T10:25:11.439668Z",
          "shell.execute_reply.started": "2021-07-15T10:25:11.155560Z",
          "shell.execute_reply": "2021-07-15T10:25:11.438738Z"
        },
        "trusted": true,
        "id": "Aec_Zn5yC-GC"
      },
      "source": [
        "# Build an RNN using the GRU cell\n",
        "from tensorflow.keras import layers\n",
        "inputs = layers.Input(shape=(1,), dtype=\"string\")\n",
        "x = text_vectorizer(inputs)\n",
        "x = embedding(x)\n",
        "# x = layers.GRU(64, return_sequences=True) # stacking recurrent cells requires return_sequences=True\n",
        "x = layers.GRU(64)(x) \n",
        "# x = layers.Dense(64, activation=\"relu\")(x) # optional dense layer after GRU cell\n",
        "outputs = layers.Dense(1, activation=\"sigmoid\")(x)\n",
        "model_3 = tf.keras.Model(inputs, outputs, name=\"model_3_GRU\")"
      ],
      "execution_count": null,
      "outputs": []
    },
    {
      "cell_type": "code",
      "metadata": {
        "execution": {
          "iopub.status.busy": "2021-07-15T10:25:24.525023Z",
          "iopub.execute_input": "2021-07-15T10:25:24.525444Z",
          "iopub.status.idle": "2021-07-15T10:25:24.539991Z",
          "shell.execute_reply.started": "2021-07-15T10:25:24.525408Z",
          "shell.execute_reply": "2021-07-15T10:25:24.538766Z"
        },
        "trusted": true,
        "id": "_6FB5Em5C-GC"
      },
      "source": [
        "\n",
        "# Compile GRU model\n",
        "model_3.compile(loss=\"binary_crossentropy\",\n",
        "                optimizer=tf.keras.optimizers.Adam(),\n",
        "                metrics=[\"accuracy\"])"
      ],
      "execution_count": null,
      "outputs": []
    },
    {
      "cell_type": "code",
      "metadata": {
        "execution": {
          "iopub.status.busy": "2021-07-15T10:25:48.831108Z",
          "iopub.execute_input": "2021-07-15T10:25:48.831548Z",
          "iopub.status.idle": "2021-07-15T10:25:48.841332Z",
          "shell.execute_reply.started": "2021-07-15T10:25:48.831515Z",
          "shell.execute_reply": "2021-07-15T10:25:48.839759Z"
        },
        "trusted": true,
        "id": "aSYd6fw9C-GC",
        "outputId": "7f75a198-761a-4c8e-909f-8da5a416f79d"
      },
      "source": [
        "\n",
        "# Get a summary of the GRU model\n",
        "model_3.summary()"
      ],
      "execution_count": null,
      "outputs": [
        {
          "output_type": "stream",
          "text": [
            "Model: \"model_3_GRU\"\n",
            "_________________________________________________________________\n",
            "Layer (type)                 Output Shape              Param #   \n",
            "=================================================================\n",
            "input_10 (InputLayer)        [(None, 1)]               0         \n",
            "_________________________________________________________________\n",
            "text_vectorization_1 (TextVe (None, 15)                0         \n",
            "_________________________________________________________________\n",
            "embedding (Embedding)        (None, 15, 128)           1280000   \n",
            "_________________________________________________________________\n",
            "gru (GRU)                    (None, 64)                37248     \n",
            "_________________________________________________________________\n",
            "dense_5 (Dense)              (None, 1)                 65        \n",
            "=================================================================\n",
            "Total params: 1,317,313\n",
            "Trainable params: 1,317,313\n",
            "Non-trainable params: 0\n",
            "_________________________________________________________________\n"
          ],
          "name": "stdout"
        }
      ]
    },
    {
      "cell_type": "code",
      "metadata": {
        "execution": {
          "iopub.status.busy": "2021-07-15T10:26:08.155591Z",
          "iopub.execute_input": "2021-07-15T10:26:08.155996Z",
          "iopub.status.idle": "2021-07-15T10:26:34.538842Z",
          "shell.execute_reply.started": "2021-07-15T10:26:08.155965Z",
          "shell.execute_reply": "2021-07-15T10:26:34.537712Z"
        },
        "trusted": true,
        "id": "ztkdq1WYC-GC",
        "outputId": "c2ac922a-5b4b-4839-ff0e-96a943fa90f2"
      },
      "source": [
        "# Fit model\n",
        "model_3_history = model_3.fit(train_sentences,\n",
        "                              train_labels,\n",
        "                              epochs=5,\n",
        "                              validation_data=(val_sentences, val_labels),\n",
        "                              callbacks=[create_tensorboard_callback(Save_dir, \"GRU\")])"
      ],
      "execution_count": null,
      "outputs": [
        {
          "output_type": "stream",
          "text": [
            "Saving TensorBoard log files to: model_logs/GRU/20210715-102608\n",
            "Epoch 1/5\n",
            "191/191 [==============================] - 8s 29ms/step - loss: 0.2695 - accuracy: 0.8887 - val_loss: 0.7017 - val_accuracy: 0.7840\n",
            "Epoch 2/5\n",
            "191/191 [==============================] - 4s 24ms/step - loss: 0.0632 - accuracy: 0.9763 - val_loss: 0.8393 - val_accuracy: 0.7761\n",
            "Epoch 3/5\n",
            "191/191 [==============================] - 5s 24ms/step - loss: 0.0553 - accuracy: 0.9773 - val_loss: 0.8474 - val_accuracy: 0.7715\n",
            "Epoch 4/5\n",
            "191/191 [==============================] - 5s 24ms/step - loss: 0.0467 - accuracy: 0.9820 - val_loss: 1.0665 - val_accuracy: 0.7498\n",
            "Epoch 5/5\n",
            "191/191 [==============================] - 5s 24ms/step - loss: 0.0405 - accuracy: 0.9828 - val_loss: 1.1728 - val_accuracy: 0.7617\n"
          ],
          "name": "stdout"
        }
      ]
    },
    {
      "cell_type": "code",
      "metadata": {
        "execution": {
          "iopub.status.busy": "2021-07-15T10:27:18.764948Z",
          "iopub.execute_input": "2021-07-15T10:27:18.765532Z",
          "iopub.status.idle": "2021-07-15T10:27:19.374326Z",
          "shell.execute_reply.started": "2021-07-15T10:27:18.765481Z",
          "shell.execute_reply": "2021-07-15T10:27:19.373432Z"
        },
        "trusted": true,
        "id": "Jf3-Pru8C-GC",
        "outputId": "f1cd0ed9-916d-4125-b444-532fe31d8b65"
      },
      "source": [
        "# Make predictions on the validation data\n",
        "model_3_pred_probs = model_3.predict(val_sentences)\n",
        "# Convert prediction probabilities to prediction classes\n",
        "model_3_preds = tf.squeeze(tf.round(model_3_pred_probs))\n",
        "model_3_preds[:10]"
      ],
      "execution_count": null,
      "outputs": [
        {
          "output_type": "execute_result",
          "data": {
            "text/plain": [
              "<tf.Tensor: shape=(10,), dtype=float32, numpy=array([0., 1., 1., 0., 0., 1., 1., 1., 1., 1.], dtype=float32)>"
            ]
          },
          "metadata": {
            "tags": []
          },
          "execution_count": 107
        }
      ]
    },
    {
      "cell_type": "code",
      "metadata": {
        "execution": {
          "iopub.status.busy": "2021-07-15T10:27:36.510443Z",
          "iopub.execute_input": "2021-07-15T10:27:36.511045Z",
          "iopub.status.idle": "2021-07-15T10:27:36.521999Z",
          "shell.execute_reply.started": "2021-07-15T10:27:36.510989Z",
          "shell.execute_reply": "2021-07-15T10:27:36.520864Z"
        },
        "trusted": true,
        "id": "hoTJFIsoC-GD",
        "outputId": "f19ac7d5-a414-40ff-a430-ab28c02eb905"
      },
      "source": [
        "\n",
        "# Calcuate model_3 results\n",
        "model_3_results = calculate_results(y_true=val_labels, \n",
        "                                    y_pred=model_3_preds)\n",
        "model_3_results"
      ],
      "execution_count": null,
      "outputs": [
        {
          "output_type": "execute_result",
          "data": {
            "text/plain": [
              "{'accuracy': 76.16546290216678,\n",
              " 'precision': 0.7607531392375166,\n",
              " 'recall': 0.7616546290216678,\n",
              " 'f1': 0.7605862070909477}"
            ]
          },
          "metadata": {
            "tags": []
          },
          "execution_count": 108
        }
      ]
    },
    {
      "cell_type": "code",
      "metadata": {
        "execution": {
          "iopub.status.busy": "2021-07-15T10:27:44.925867Z",
          "iopub.execute_input": "2021-07-15T10:27:44.926267Z",
          "iopub.status.idle": "2021-07-15T10:27:44.932655Z",
          "shell.execute_reply.started": "2021-07-15T10:27:44.926232Z",
          "shell.execute_reply": "2021-07-15T10:27:44.931193Z"
        },
        "trusted": true,
        "id": "LViaPYZGC-GD",
        "outputId": "d93fefcc-a74c-4090-e49a-e33093099a96"
      },
      "source": [
        "# Compare to baseline\n",
        "compare_baseline_to_new_results(baseline_results, model_3_results)"
      ],
      "execution_count": null,
      "outputs": [
        {
          "output_type": "stream",
          "text": [
            "Baseline accuracy: 79.91, New accuracy: 76.17, Difference: -3.74\n",
            "Baseline precision: 0.81, New precision: 0.76, Difference: -0.05\n",
            "Baseline recall: 0.80, New recall: 0.76, Difference: -0.04\n",
            "Baseline f1: 0.79, New f1: 0.76, Difference: -0.03\n"
          ],
          "name": "stdout"
        }
      ]
    },
    {
      "cell_type": "markdown",
      "metadata": {
        "id": "S0c0bIuFC-GD"
      },
      "source": [
        "**Model 4**"
      ]
    },
    {
      "cell_type": "code",
      "metadata": {
        "execution": {
          "iopub.status.busy": "2021-07-15T10:28:34.226987Z",
          "iopub.execute_input": "2021-07-15T10:28:34.227438Z",
          "iopub.status.idle": "2021-07-15T10:28:34.796398Z",
          "shell.execute_reply.started": "2021-07-15T10:28:34.227399Z",
          "shell.execute_reply": "2021-07-15T10:28:34.795304Z"
        },
        "trusted": true,
        "id": "zqyqtVnaC-GD"
      },
      "source": [
        "# Build a Bidirectional RNN in TensorFlow\n",
        "from tensorflow.keras import layers\n",
        "inputs = layers.Input(shape=(1,), dtype=\"string\")\n",
        "x = text_vectorizer(inputs)\n",
        "x = embedding(x)\n",
        "# x = layers.Bidirectional(layers.LSTM(64, return_sequences=True))(x) # stacking RNN layers requires return_sequences=True\n",
        "x = layers.Bidirectional(layers.LSTM(64))(x) # bidirectional goes both ways so has double the parameters of a regular LSTM layer\n",
        "outputs = layers.Dense(1, activation=\"sigmoid\")(x)\n",
        "model_4 = tf.keras.Model(inputs, outputs, name=\"model_4_Bidirectional\")"
      ],
      "execution_count": null,
      "outputs": []
    },
    {
      "cell_type": "code",
      "metadata": {
        "execution": {
          "iopub.status.busy": "2021-07-15T10:28:41.644941Z",
          "iopub.execute_input": "2021-07-15T10:28:41.645400Z",
          "iopub.status.idle": "2021-07-15T10:28:41.660231Z",
          "shell.execute_reply.started": "2021-07-15T10:28:41.645343Z",
          "shell.execute_reply": "2021-07-15T10:28:41.659119Z"
        },
        "trusted": true,
        "id": "Cfcs493EC-GD"
      },
      "source": [
        "\n",
        "# Compile\n",
        "model_4.compile(loss=\"binary_crossentropy\",\n",
        "                optimizer=tf.keras.optimizers.Adam(),\n",
        "                metrics=[\"accuracy\"])"
      ],
      "execution_count": null,
      "outputs": []
    },
    {
      "cell_type": "code",
      "metadata": {
        "execution": {
          "iopub.status.busy": "2021-07-15T10:29:03.065238Z",
          "iopub.execute_input": "2021-07-15T10:29:03.065643Z",
          "iopub.status.idle": "2021-07-15T10:29:03.077566Z",
          "shell.execute_reply.started": "2021-07-15T10:29:03.065605Z",
          "shell.execute_reply": "2021-07-15T10:29:03.076038Z"
        },
        "trusted": true,
        "id": "m8QhtQFcC-GE",
        "outputId": "a910e0d8-c4ba-44a4-9c49-797752b5e7ab"
      },
      "source": [
        "# Get a summary of our bidirectional model\n",
        "model_4.summary()"
      ],
      "execution_count": null,
      "outputs": [
        {
          "output_type": "stream",
          "text": [
            "Model: \"model_4_Bidirectional\"\n",
            "_________________________________________________________________\n",
            "Layer (type)                 Output Shape              Param #   \n",
            "=================================================================\n",
            "input_11 (InputLayer)        [(None, 1)]               0         \n",
            "_________________________________________________________________\n",
            "text_vectorization_1 (TextVe (None, 15)                0         \n",
            "_________________________________________________________________\n",
            "embedding (Embedding)        (None, 15, 128)           1280000   \n",
            "_________________________________________________________________\n",
            "bidirectional (Bidirectional (None, 128)               98816     \n",
            "_________________________________________________________________\n",
            "dense_6 (Dense)              (None, 1)                 129       \n",
            "=================================================================\n",
            "Total params: 1,378,945\n",
            "Trainable params: 1,378,945\n",
            "Non-trainable params: 0\n",
            "_________________________________________________________________\n"
          ],
          "name": "stdout"
        }
      ]
    },
    {
      "cell_type": "code",
      "metadata": {
        "execution": {
          "iopub.status.busy": "2021-07-15T10:29:20.041485Z",
          "iopub.execute_input": "2021-07-15T10:29:20.041896Z",
          "iopub.status.idle": "2021-07-15T10:29:52.765744Z",
          "shell.execute_reply.started": "2021-07-15T10:29:20.041861Z",
          "shell.execute_reply": "2021-07-15T10:29:52.764689Z"
        },
        "trusted": true,
        "id": "Q6Bysdn8C-GE",
        "outputId": "91a7d242-13f5-41d2-ee76-1a38ab80d6c9"
      },
      "source": [
        "\n",
        "# Fit the model (takes longer because of the bidirectional layers)\n",
        "model_4_history = model_4.fit(train_sentences,\n",
        "                              train_labels,\n",
        "                              epochs=5,\n",
        "                              validation_data=(val_sentences, val_labels),\n",
        "                              callbacks=[create_tensorboard_callback(Save_dir, \"bidirectional_RNN\")])"
      ],
      "execution_count": null,
      "outputs": [
        {
          "output_type": "stream",
          "text": [
            "Saving TensorBoard log files to: model_logs/bidirectional_RNN/20210715-102920\n",
            "Epoch 1/5\n",
            "191/191 [==============================] - 10s 36ms/step - loss: 0.1928 - accuracy: 0.9381 - val_loss: 1.0600 - val_accuracy: 0.7636\n",
            "Epoch 2/5\n",
            "191/191 [==============================] - 6s 30ms/step - loss: 0.0396 - accuracy: 0.9843 - val_loss: 1.0446 - val_accuracy: 0.7800\n",
            "Epoch 3/5\n",
            "191/191 [==============================] - 5s 28ms/step - loss: 0.0353 - accuracy: 0.9852 - val_loss: 1.4132 - val_accuracy: 0.7571\n",
            "Epoch 4/5\n",
            "191/191 [==============================] - 6s 29ms/step - loss: 0.0348 - accuracy: 0.9816 - val_loss: 1.4370 - val_accuracy: 0.7630\n",
            "Epoch 5/5\n",
            "191/191 [==============================] - 6s 29ms/step - loss: 0.0255 - accuracy: 0.9872 - val_loss: 1.4360 - val_accuracy: 0.7636\n"
          ],
          "name": "stdout"
        }
      ]
    },
    {
      "cell_type": "code",
      "metadata": {
        "execution": {
          "iopub.status.busy": "2021-07-15T10:33:32.876431Z",
          "iopub.execute_input": "2021-07-15T10:33:32.876808Z",
          "iopub.status.idle": "2021-07-15T10:33:33.894521Z",
          "shell.execute_reply.started": "2021-07-15T10:33:32.876777Z",
          "shell.execute_reply": "2021-07-15T10:33:33.893429Z"
        },
        "trusted": true,
        "id": "51EGDy-sC-GE"
      },
      "source": [
        "# Make predictions with bidirectional RNN on the validation data\n",
        "model_4_pred_probs = model_4.predict(val_sentences)\n",
        "model_4_preds = tf.squeeze(tf.round(model_4_pred_probs))"
      ],
      "execution_count": null,
      "outputs": []
    },
    {
      "cell_type": "code",
      "metadata": {
        "execution": {
          "iopub.status.busy": "2021-07-15T10:33:49.265103Z",
          "iopub.execute_input": "2021-07-15T10:33:49.265527Z",
          "iopub.status.idle": "2021-07-15T10:33:49.276200Z",
          "shell.execute_reply.started": "2021-07-15T10:33:49.265493Z",
          "shell.execute_reply": "2021-07-15T10:33:49.274853Z"
        },
        "trusted": true,
        "id": "nwjbEoUoC-GE",
        "outputId": "149dacf9-c199-4b79-db63-1d8fec098a27"
      },
      "source": [
        "# Calculate bidirectional RNN model results\n",
        "model_4_results = calculate_results(val_labels, model_4_preds)\n",
        "model_4_results"
      ],
      "execution_count": null,
      "outputs": [
        {
          "output_type": "execute_result",
          "data": {
            "text/plain": [
              "{'accuracy': 76.36244254760342,\n",
              " 'precision': 0.763602626783531,\n",
              " 'recall': 0.7636244254760342,\n",
              " 'f1': 0.7610943697612657}"
            ]
          },
          "metadata": {
            "tags": []
          },
          "execution_count": 116
        }
      ]
    },
    {
      "cell_type": "code",
      "metadata": {
        "execution": {
          "iopub.status.busy": "2021-07-15T10:34:00.526096Z",
          "iopub.execute_input": "2021-07-15T10:34:00.526532Z",
          "iopub.status.idle": "2021-07-15T10:34:00.533681Z",
          "shell.execute_reply.started": "2021-07-15T10:34:00.526478Z",
          "shell.execute_reply": "2021-07-15T10:34:00.532091Z"
        },
        "trusted": true,
        "id": "BHv1uPhhC-GE",
        "outputId": "0b7965b1-62e6-4b93-c770-48353cf9728c"
      },
      "source": [
        "# Check to see how the bidirectional model performs against the baseline\n",
        "compare_baseline_to_new_results(baseline_results, model_4_results)"
      ],
      "execution_count": null,
      "outputs": [
        {
          "output_type": "stream",
          "text": [
            "Baseline accuracy: 79.91, New accuracy: 76.36, Difference: -3.55\n",
            "Baseline precision: 0.81, New precision: 0.76, Difference: -0.05\n",
            "Baseline recall: 0.80, New recall: 0.76, Difference: -0.04\n",
            "Baseline f1: 0.79, New f1: 0.76, Difference: -0.03\n"
          ],
          "name": "stdout"
        }
      ]
    },
    {
      "cell_type": "markdown",
      "metadata": {
        "id": "ASO6QA-DC-GF"
      },
      "source": [
        "**Model 5**"
      ]
    },
    {
      "cell_type": "code",
      "metadata": {
        "execution": {
          "iopub.status.busy": "2021-07-15T10:35:26.461076Z",
          "iopub.execute_input": "2021-07-15T10:35:26.461539Z",
          "iopub.status.idle": "2021-07-15T10:35:26.499385Z",
          "shell.execute_reply.started": "2021-07-15T10:35:26.461499Z",
          "shell.execute_reply": "2021-07-15T10:35:26.498190Z"
        },
        "trusted": true,
        "id": "9F-fY8gXC-GF",
        "outputId": "36466db9-ba9e-4376-c716-9bd7dee5e4df"
      },
      "source": [
        "# Test out the embedding, 1D convolutional and max pooling\n",
        "embedding_test = embedding(text_vectorizer([\"this is a test sentence\"])) # turn target sentence into embedding\n",
        "conv_1d = layers.Conv1D(filters=32, kernel_size=5, activation=\"relu\") # convolve over target sequence 5 words at a time\n",
        "conv_1d_output = conv_1d(embedding_test) # pass embedding through 1D convolutional layer\n",
        "max_pool = layers.GlobalMaxPool1D() \n",
        "max_pool_output = max_pool(conv_1d_output) # get the most important features\n",
        "embedding_test.shape, conv_1d_output.shape, max_pool_output.shape"
      ],
      "execution_count": null,
      "outputs": [
        {
          "output_type": "execute_result",
          "data": {
            "text/plain": [
              "(TensorShape([1, 15, 128]), TensorShape([1, 11, 32]), TensorShape([1, 32]))"
            ]
          },
          "metadata": {
            "tags": []
          },
          "execution_count": 118
        }
      ]
    },
    {
      "cell_type": "code",
      "metadata": {
        "execution": {
          "iopub.status.busy": "2021-07-15T10:36:05.465097Z",
          "iopub.execute_input": "2021-07-15T10:36:05.465547Z",
          "iopub.status.idle": "2021-07-15T10:36:05.482624Z",
          "shell.execute_reply.started": "2021-07-15T10:36:05.465513Z",
          "shell.execute_reply": "2021-07-15T10:36:05.481337Z"
        },
        "trusted": true,
        "id": "l2Y7GfgNC-GF",
        "outputId": "452b62d3-23f8-4e54-a705-83d332a279a9"
      },
      "source": [
        "embedding_test[:1], conv_1d_output[:1], max_pool_output[:1]"
      ],
      "execution_count": null,
      "outputs": [
        {
          "output_type": "execute_result",
          "data": {
            "text/plain": [
              "(<tf.Tensor: shape=(1, 15, 128), dtype=float32, numpy=\n",
              " array([[[-0.01222829,  0.02020211,  0.04050673, ..., -0.00468382,\n",
              "           0.00272599, -0.03290401],\n",
              "         [-0.00225387, -0.04199347,  0.00904611, ...,  0.0401274 ,\n",
              "          -0.02383126,  0.002302  ],\n",
              "         [ 0.0088272 , -0.04432634, -0.02652862, ...,  0.0648296 ,\n",
              "           0.02408241,  0.06315278],\n",
              "         ...,\n",
              "         [ 0.00601139, -0.01532459,  0.00082317, ...,  0.07736067,\n",
              "           0.03500706,  0.0274146 ],\n",
              "         [ 0.00601139, -0.01532459,  0.00082317, ...,  0.07736067,\n",
              "           0.03500706,  0.0274146 ],\n",
              "         [ 0.00601139, -0.01532459,  0.00082317, ...,  0.07736067,\n",
              "           0.03500706,  0.0274146 ]]], dtype=float32)>,\n",
              " <tf.Tensor: shape=(1, 11, 32), dtype=float32, numpy=\n",
              " array([[[0.05373407, 0.01365487, 0.        , 0.15379947, 0.        ,\n",
              "          0.        , 0.        , 0.        , 0.00783829, 0.        ,\n",
              "          0.        , 0.25949144, 0.02561532, 0.        , 0.21585411,\n",
              "          0.        , 0.        , 0.1796101 , 0.        , 0.        ,\n",
              "          0.20125364, 0.        , 0.        , 0.        , 0.        ,\n",
              "          0.        , 0.        , 0.        , 0.        , 0.        ,\n",
              "          0.        , 0.        ],\n",
              "         [0.0938969 , 0.08272446, 0.        , 0.03492413, 0.        ,\n",
              "          0.        , 0.0759875 , 0.00298294, 0.1088676 , 0.03055712,\n",
              "          0.        , 0.22916123, 0.        , 0.0807166 , 0.12897928,\n",
              "          0.        , 0.03803234, 0.1038737 , 0.        , 0.05006164,\n",
              "          0.17037499, 0.09161504, 0.08437285, 0.09697272, 0.        ,\n",
              "          0.        , 0.        , 0.        , 0.17233627, 0.        ,\n",
              "          0.05189579, 0.        ],\n",
              "         [0.        , 0.        , 0.03587672, 0.        , 0.26197383,\n",
              "          0.02497976, 0.        , 0.        , 0.28792873, 0.0396434 ,\n",
              "          0.2442139 , 0.30902606, 0.14024264, 0.        , 0.1820741 ,\n",
              "          0.01255615, 0.05854584, 0.13245972, 0.        , 0.        ,\n",
              "          0.1825212 , 0.01260493, 0.        , 0.00170268, 0.        ,\n",
              "          0.00044737, 0.        , 0.        , 0.01590886, 0.        ,\n",
              "          0.        , 0.01211567],\n",
              "         [0.        , 0.27322385, 0.        , 0.21090257, 0.        ,\n",
              "          0.        , 0.05695942, 0.06806375, 0.        , 0.        ,\n",
              "          0.        , 0.27511814, 0.        , 0.        , 0.04385542,\n",
              "          0.        , 0.        , 0.22546731, 0.        , 0.        ,\n",
              "          0.02431411, 0.08998042, 0.        , 0.        , 0.07389332,\n",
              "          0.        , 0.09024461, 0.05648886, 0.2502207 , 0.        ,\n",
              "          0.11375695, 0.14698826],\n",
              "         [0.0251767 , 0.        , 0.        , 0.04028014, 0.09175625,\n",
              "          0.        , 0.        , 0.00608305, 0.05579086, 0.00924671,\n",
              "          0.06610538, 0.01642081, 0.02866873, 0.00147865, 0.04623643,\n",
              "          0.        , 0.00755845, 0.04518891, 0.        , 0.        ,\n",
              "          0.0860083 , 0.0222226 , 0.        , 0.05410572, 0.0572416 ,\n",
              "          0.        , 0.        , 0.        , 0.09201211, 0.        ,\n",
              "          0.00530302, 0.00326881],\n",
              "         [0.03131421, 0.        , 0.        , 0.03154684, 0.03789102,\n",
              "          0.        , 0.        , 0.00531526, 0.04690525, 0.01711808,\n",
              "          0.06196157, 0.04749194, 0.        , 0.        , 0.05087277,\n",
              "          0.        , 0.00100621, 0.01995271, 0.        , 0.        ,\n",
              "          0.05410687, 0.0072617 , 0.        , 0.04664448, 0.05341775,\n",
              "          0.        , 0.        , 0.00151443, 0.05670847, 0.        ,\n",
              "          0.        , 0.03778331],\n",
              "         [0.03131421, 0.        , 0.        , 0.03154684, 0.03789102,\n",
              "          0.        , 0.        , 0.00531526, 0.04690525, 0.01711808,\n",
              "          0.06196157, 0.04749194, 0.        , 0.        , 0.05087277,\n",
              "          0.        , 0.00100621, 0.01995271, 0.        , 0.        ,\n",
              "          0.05410687, 0.0072617 , 0.        , 0.04664448, 0.05341775,\n",
              "          0.        , 0.        , 0.00151443, 0.05670847, 0.        ,\n",
              "          0.        , 0.03778331],\n",
              "         [0.03131421, 0.        , 0.        , 0.03154684, 0.03789102,\n",
              "          0.        , 0.        , 0.00531526, 0.04690525, 0.01711808,\n",
              "          0.06196157, 0.04749194, 0.        , 0.        , 0.05087277,\n",
              "          0.        , 0.00100621, 0.01995271, 0.        , 0.        ,\n",
              "          0.05410687, 0.0072617 , 0.        , 0.04664448, 0.05341775,\n",
              "          0.        , 0.        , 0.00151443, 0.05670847, 0.        ,\n",
              "          0.        , 0.03778331],\n",
              "         [0.03131421, 0.        , 0.        , 0.03154684, 0.03789102,\n",
              "          0.        , 0.        , 0.00531526, 0.04690525, 0.01711808,\n",
              "          0.06196157, 0.04749194, 0.        , 0.        , 0.05087277,\n",
              "          0.        , 0.00100621, 0.01995271, 0.        , 0.        ,\n",
              "          0.05410687, 0.0072617 , 0.        , 0.04664448, 0.05341775,\n",
              "          0.        , 0.        , 0.00151443, 0.05670847, 0.        ,\n",
              "          0.        , 0.03778331],\n",
              "         [0.03131421, 0.        , 0.        , 0.03154684, 0.03789102,\n",
              "          0.        , 0.        , 0.00531526, 0.04690525, 0.01711808,\n",
              "          0.06196157, 0.04749194, 0.        , 0.        , 0.05087277,\n",
              "          0.        , 0.00100621, 0.01995271, 0.        , 0.        ,\n",
              "          0.05410687, 0.0072617 , 0.        , 0.04664448, 0.05341775,\n",
              "          0.        , 0.        , 0.00151443, 0.05670847, 0.        ,\n",
              "          0.        , 0.03778331],\n",
              "         [0.03131421, 0.        , 0.        , 0.03154684, 0.03789102,\n",
              "          0.        , 0.        , 0.00531526, 0.04690525, 0.01711808,\n",
              "          0.06196157, 0.04749194, 0.        , 0.        , 0.05087277,\n",
              "          0.        , 0.00100621, 0.01995271, 0.        , 0.        ,\n",
              "          0.05410687, 0.0072617 , 0.        , 0.04664448, 0.05341775,\n",
              "          0.        , 0.        , 0.00151443, 0.05670847, 0.        ,\n",
              "          0.        , 0.03778331]]], dtype=float32)>,\n",
              " <tf.Tensor: shape=(1, 32), dtype=float32, numpy=\n",
              " array([[0.0938969 , 0.27322385, 0.03587672, 0.21090257, 0.26197383,\n",
              "         0.02497976, 0.0759875 , 0.06806375, 0.28792873, 0.0396434 ,\n",
              "         0.2442139 , 0.30902606, 0.14024264, 0.0807166 , 0.21585411,\n",
              "         0.01255615, 0.05854584, 0.22546731, 0.        , 0.05006164,\n",
              "         0.20125364, 0.09161504, 0.08437285, 0.09697272, 0.07389332,\n",
              "         0.00044737, 0.09024461, 0.05648886, 0.2502207 , 0.        ,\n",
              "         0.11375695, 0.14698826]], dtype=float32)>)"
            ]
          },
          "metadata": {
            "tags": []
          },
          "execution_count": 119
        }
      ]
    },
    {
      "cell_type": "code",
      "metadata": {
        "execution": {
          "iopub.status.busy": "2021-07-15T10:36:23.415957Z",
          "iopub.execute_input": "2021-07-15T10:36:23.416400Z",
          "iopub.status.idle": "2021-07-15T10:36:23.512708Z",
          "shell.execute_reply.started": "2021-07-15T10:36:23.416364Z",
          "shell.execute_reply": "2021-07-15T10:36:23.511449Z"
        },
        "trusted": true,
        "id": "cl71GDFAC-GF",
        "outputId": "924e28bd-c339-47b7-a82a-26e3267e1524"
      },
      "source": [
        "# Create 1-dimensional convolutional layer to model sequences\n",
        "from tensorflow.keras import layers\n",
        "inputs = layers.Input(shape=(1,), dtype=\"string\")\n",
        "x = text_vectorizer(inputs)\n",
        "x = embedding(x)\n",
        "x = layers.Conv1D(filters=32, kernel_size=5, activation=\"relu\")(x)\n",
        "x = layers.GlobalMaxPool1D()(x)\n",
        "# x = layers.Dense(64, activation=\"relu\")(x) # optional dense layer\n",
        "outputs = layers.Dense(1, activation=\"sigmoid\")(x)\n",
        "model_5 = tf.keras.Model(inputs, outputs, name=\"model_5_Conv1D\")\n",
        "\n",
        "# Compile Conv1D model\n",
        "model_5.compile(loss=\"binary_crossentropy\",\n",
        "                optimizer=tf.keras.optimizers.Adam(),\n",
        "                metrics=[\"accuracy\"])\n",
        "\n",
        "# Get a summary of our 1D convolution model\n",
        "model_5.summary()"
      ],
      "execution_count": null,
      "outputs": [
        {
          "output_type": "stream",
          "text": [
            "Model: \"model_5_Conv1D\"\n",
            "_________________________________________________________________\n",
            "Layer (type)                 Output Shape              Param #   \n",
            "=================================================================\n",
            "input_12 (InputLayer)        [(None, 1)]               0         \n",
            "_________________________________________________________________\n",
            "text_vectorization_1 (TextVe (None, 15)                0         \n",
            "_________________________________________________________________\n",
            "embedding (Embedding)        (None, 15, 128)           1280000   \n",
            "_________________________________________________________________\n",
            "conv1d_1 (Conv1D)            (None, 11, 32)            20512     \n",
            "_________________________________________________________________\n",
            "global_max_pooling1d_1 (Glob (None, 32)                0         \n",
            "_________________________________________________________________\n",
            "dense_7 (Dense)              (None, 1)                 33        \n",
            "=================================================================\n",
            "Total params: 1,300,545\n",
            "Trainable params: 1,300,545\n",
            "Non-trainable params: 0\n",
            "_________________________________________________________________\n"
          ],
          "name": "stdout"
        }
      ]
    },
    {
      "cell_type": "code",
      "metadata": {
        "execution": {
          "iopub.status.busy": "2021-07-15T10:36:42.715125Z",
          "iopub.execute_input": "2021-07-15T10:36:42.715501Z",
          "iopub.status.idle": "2021-07-15T10:36:58.342080Z",
          "shell.execute_reply.started": "2021-07-15T10:36:42.715471Z",
          "shell.execute_reply": "2021-07-15T10:36:58.340954Z"
        },
        "trusted": true,
        "id": "gksISa0_C-GF",
        "outputId": "15b031ac-d8d0-4325-f4d8-bdacb4755b57"
      },
      "source": [
        "# Fit the model\n",
        "model_5_history = model_5.fit(train_sentences,\n",
        "                              train_labels,\n",
        "                              epochs=5,\n",
        "                              validation_data=(val_sentences, val_labels),\n",
        "                              callbacks=[create_tensorboard_callback(Save_dir, \n",
        "                                                                     \"Conv1D\")])"
      ],
      "execution_count": null,
      "outputs": [
        {
          "output_type": "stream",
          "text": [
            "Saving TensorBoard log files to: model_logs/Conv1D/20210715-103642\n",
            "Epoch 1/5\n",
            "191/191 [==============================] - 4s 17ms/step - loss: 0.2311 - accuracy: 0.8973 - val_loss: 0.7942 - val_accuracy: 0.7636\n",
            "Epoch 2/5\n",
            "191/191 [==============================] - 3s 15ms/step - loss: 0.0627 - accuracy: 0.9799 - val_loss: 0.9351 - val_accuracy: 0.7577\n",
            "Epoch 3/5\n",
            "191/191 [==============================] - 3s 14ms/step - loss: 0.0460 - accuracy: 0.9839 - val_loss: 1.0390 - val_accuracy: 0.7492\n",
            "Epoch 4/5\n",
            "191/191 [==============================] - 3s 15ms/step - loss: 0.0404 - accuracy: 0.9819 - val_loss: 1.0957 - val_accuracy: 0.7630\n",
            "Epoch 5/5\n",
            "191/191 [==============================] - 3s 14ms/step - loss: 0.0409 - accuracy: 0.9829 - val_loss: 1.1637 - val_accuracy: 0.7571\n"
          ],
          "name": "stdout"
        }
      ]
    },
    {
      "cell_type": "code",
      "metadata": {
        "execution": {
          "iopub.status.busy": "2021-07-15T10:37:05.405614Z",
          "iopub.execute_input": "2021-07-15T10:37:05.406173Z",
          "iopub.status.idle": "2021-07-15T10:37:05.658569Z",
          "shell.execute_reply.started": "2021-07-15T10:37:05.406123Z",
          "shell.execute_reply": "2021-07-15T10:37:05.657783Z"
        },
        "trusted": true,
        "id": "RFG5gvV3C-GG",
        "outputId": "761a0553-6ab6-4047-c550-36c48ca0c5c5"
      },
      "source": [
        "# Make predictions with model_5\n",
        "model_5_pred_probs = model_5.predict(val_sentences)\n",
        "model_5_pred_probs[:10]"
      ],
      "execution_count": null,
      "outputs": [
        {
          "output_type": "execute_result",
          "data": {
            "text/plain": [
              "array([[4.2496729e-01],\n",
              "       [8.7131274e-01],\n",
              "       [9.9998748e-01],\n",
              "       [2.0816326e-03],\n",
              "       [9.7802849e-06],\n",
              "       [9.9741733e-01],\n",
              "       [9.9846679e-01],\n",
              "       [9.9999857e-01],\n",
              "       [9.9998868e-01],\n",
              "       [6.9839287e-01]], dtype=float32)"
            ]
          },
          "metadata": {
            "tags": []
          },
          "execution_count": 123
        }
      ]
    },
    {
      "cell_type": "code",
      "metadata": {
        "execution": {
          "iopub.status.busy": "2021-07-15T10:37:16.150019Z",
          "iopub.execute_input": "2021-07-15T10:37:16.150650Z",
          "iopub.status.idle": "2021-07-15T10:37:16.155241Z",
          "shell.execute_reply.started": "2021-07-15T10:37:16.150596Z",
          "shell.execute_reply": "2021-07-15T10:37:16.154123Z"
        },
        "trusted": true,
        "id": "56fyERPfC-GG"
      },
      "source": [
        "# Convert model_5 prediction probabilities to labels\n",
        "model_5_preds = tf.squeeze(tf.round(model_5_pred_probs))"
      ],
      "execution_count": null,
      "outputs": []
    },
    {
      "cell_type": "code",
      "metadata": {
        "execution": {
          "iopub.status.busy": "2021-07-15T10:37:39.235160Z",
          "iopub.execute_input": "2021-07-15T10:37:39.235589Z",
          "iopub.status.idle": "2021-07-15T10:37:39.245398Z",
          "shell.execute_reply.started": "2021-07-15T10:37:39.235553Z",
          "shell.execute_reply": "2021-07-15T10:37:39.244331Z"
        },
        "trusted": true,
        "id": "IOiHgfEoC-GG",
        "outputId": "f6186128-b86d-4c2f-81be-fa48ad192414"
      },
      "source": [
        "model_5_results = calculate_results(y_true=val_labels, \n",
        "                                    y_pred=model_5_preds)\n",
        "\n",
        "model_5_results"
      ],
      "execution_count": null,
      "outputs": [
        {
          "output_type": "execute_result",
          "data": {
            "text/plain": [
              "{'accuracy': 75.70584372948129,\n",
              " 'precision': 0.7561940396416831,\n",
              " 'recall': 0.7570584372948129,\n",
              " 'f1': 0.7562875015251737}"
            ]
          },
          "metadata": {
            "tags": []
          },
          "execution_count": 127
        }
      ]
    },
    {
      "cell_type": "code",
      "metadata": {
        "execution": {
          "iopub.status.busy": "2021-07-15T10:37:48.465146Z",
          "iopub.execute_input": "2021-07-15T10:37:48.465540Z",
          "iopub.status.idle": "2021-07-15T10:37:48.472164Z",
          "shell.execute_reply.started": "2021-07-15T10:37:48.465503Z",
          "shell.execute_reply": "2021-07-15T10:37:48.470882Z"
        },
        "trusted": true,
        "id": "W_k8_ddzC-GG",
        "outputId": "30c5364e-9d12-49c4-8be5-bee405d48adb"
      },
      "source": [
        "# Compare model_5 results to baseline \n",
        "compare_baseline_to_new_results(baseline_results, model_5_results)"
      ],
      "execution_count": null,
      "outputs": [
        {
          "output_type": "stream",
          "text": [
            "Baseline accuracy: 79.91, New accuracy: 75.71, Difference: -4.20\n",
            "Baseline precision: 0.81, New precision: 0.76, Difference: -0.06\n",
            "Baseline recall: 0.80, New recall: 0.76, Difference: -0.04\n",
            "Baseline f1: 0.79, New f1: 0.76, Difference: -0.04\n"
          ],
          "name": "stdout"
        }
      ]
    },
    {
      "cell_type": "markdown",
      "metadata": {
        "id": "uPex90goC-GG"
      },
      "source": [
        "**Model 6**"
      ]
    },
    {
      "cell_type": "code",
      "metadata": {
        "execution": {
          "iopub.status.busy": "2021-07-15T10:39:12.415116Z",
          "iopub.execute_input": "2021-07-15T10:39:12.415506Z",
          "iopub.status.idle": "2021-07-15T10:39:33.183612Z",
          "shell.execute_reply.started": "2021-07-15T10:39:12.415476Z",
          "shell.execute_reply": "2021-07-15T10:39:33.182675Z"
        },
        "trusted": true,
        "id": "Fi8LeivLC-GH",
        "outputId": "784f4f8d-6b34-46ba-b07e-8b632d58aa58"
      },
      "source": [
        "# Example of pretrained embedding with universal sentence encoder - https://tfhub.dev/google/universal-sentence-encoder/4\n",
        "import tensorflow_hub as hub\n",
        "embed = hub.load(\"https://tfhub.dev/google/universal-sentence-encoder/4\") # load Universal Sentence Encoder\n",
        "embed_samples = embed([sample_sentence,\n",
        "                      \"When you call the universal sentence encoder on a sentence, it turns it into numbers.\"])\n",
        "\n",
        "print(embed_samples[0][:50])"
      ],
      "execution_count": null,
      "outputs": [
        {
          "output_type": "stream",
          "text": [
            "tf.Tensor(\n",
            "[-0.03763314  0.02311836 -0.04823807  0.03391771  0.00569051 -0.03389036\n",
            "  0.05732137  0.03828164 -0.031068   -0.00181056  0.01579181 -0.04580212\n",
            "  0.04477533  0.09405877 -0.01465149 -0.06734521 -0.06948058  0.02584651\n",
            " -0.04218359 -0.05246001 -0.02698393 -0.007941    0.02193376  0.08175396\n",
            " -0.06261753 -0.05221808 -0.00651491 -0.02335291 -0.02098896  0.00381878\n",
            " -0.07757618 -0.05496265 -0.03320872  0.0780331   0.02204841  0.03197753\n",
            " -0.0077296   0.02316547 -0.03670651  0.03832511 -0.05869983  0.01449938\n",
            "  0.00187125  0.07395205 -0.09248019  0.01320577 -0.01217452 -0.03436945\n",
            "  0.02304205 -0.07155036], shape=(50,), dtype=float32)\n"
          ],
          "name": "stdout"
        }
      ]
    },
    {
      "cell_type": "code",
      "metadata": {
        "execution": {
          "iopub.status.busy": "2021-07-15T10:39:44.200230Z",
          "iopub.execute_input": "2021-07-15T10:39:44.200743Z",
          "iopub.status.idle": "2021-07-15T10:39:44.207142Z",
          "shell.execute_reply.started": "2021-07-15T10:39:44.200713Z",
          "shell.execute_reply": "2021-07-15T10:39:44.206358Z"
        },
        "trusted": true,
        "id": "Z7OATsIxC-GH",
        "outputId": "4c41eaf2-b57c-4084-f9f2-f30dc505ae70"
      },
      "source": [
        "embed_samples[0].shape"
      ],
      "execution_count": null,
      "outputs": [
        {
          "output_type": "execute_result",
          "data": {
            "text/plain": [
              "TensorShape([512])"
            ]
          },
          "metadata": {
            "tags": []
          },
          "execution_count": 130
        }
      ]
    },
    {
      "cell_type": "code",
      "metadata": {
        "execution": {
          "iopub.status.busy": "2021-07-15T10:40:50.045294Z",
          "iopub.execute_input": "2021-07-15T10:40:50.046057Z",
          "iopub.status.idle": "2021-07-15T10:41:01.527379Z",
          "shell.execute_reply.started": "2021-07-15T10:40:50.046014Z",
          "shell.execute_reply": "2021-07-15T10:41:01.524045Z"
        },
        "trusted": true,
        "id": "D1NszVRbC-GH"
      },
      "source": [
        "# We can use this encoding layer in place of our text_vectorizer and embedding layer\n",
        "sentence_encoder_layer = hub.KerasLayer(\"https://tfhub.dev/google/universal-sentence-encoder/4\",\n",
        "                                        input_shape=[], # shape of inputs coming to our model \n",
        "                                        dtype=tf.string, # data type of inputs coming to the USE layer\n",
        "                                        trainable=False, # keep the pretrained weights (we'll create a feature extractor)\n",
        "                                        name=\"USE\")"
      ],
      "execution_count": null,
      "outputs": []
    },
    {
      "cell_type": "code",
      "metadata": {
        "execution": {
          "iopub.status.busy": "2021-07-15T10:41:06.363590Z",
          "iopub.execute_input": "2021-07-15T10:41:06.365946Z",
          "iopub.status.idle": "2021-07-15T10:41:07.257108Z",
          "shell.execute_reply.started": "2021-07-15T10:41:06.365829Z",
          "shell.execute_reply": "2021-07-15T10:41:07.255809Z"
        },
        "trusted": true,
        "id": "aBquUbsiC-GH",
        "outputId": "46bb09cc-034e-4388-fe64-2e7974882545"
      },
      "source": [
        "# Create model using the Sequential API\n",
        "model_6 = tf.keras.Sequential([\n",
        "  sentence_encoder_layer, # take in sentences and then encode them into an embedding\n",
        "  layers.Dense(64, activation=\"relu\"),\n",
        "  layers.Dense(1, activation=\"sigmoid\")\n",
        "], name=\"model_6_USE\")\n",
        "\n",
        "# Compile model\n",
        "model_6.compile(loss=\"binary_crossentropy\",\n",
        "                optimizer=tf.keras.optimizers.Adam(),\n",
        "                metrics=[\"accuracy\"])\n",
        "\n",
        "model_6.summary()"
      ],
      "execution_count": null,
      "outputs": [
        {
          "output_type": "stream",
          "text": [
            "Model: \"model_6_USE\"\n",
            "_________________________________________________________________\n",
            "Layer (type)                 Output Shape              Param #   \n",
            "=================================================================\n",
            "USE (KerasLayer)             (None, 512)               256797824 \n",
            "_________________________________________________________________\n",
            "dense_8 (Dense)              (None, 64)                32832     \n",
            "_________________________________________________________________\n",
            "dense_9 (Dense)              (None, 1)                 65        \n",
            "=================================================================\n",
            "Total params: 256,830,721\n",
            "Trainable params: 32,897\n",
            "Non-trainable params: 256,797,824\n",
            "_________________________________________________________________\n"
          ],
          "name": "stdout"
        }
      ]
    },
    {
      "cell_type": "code",
      "metadata": {
        "execution": {
          "iopub.status.busy": "2021-07-15T10:41:24.185265Z",
          "iopub.execute_input": "2021-07-15T10:41:24.185766Z",
          "iopub.status.idle": "2021-07-15T10:41:43.984971Z",
          "shell.execute_reply.started": "2021-07-15T10:41:24.185713Z",
          "shell.execute_reply": "2021-07-15T10:41:43.983630Z"
        },
        "trusted": true,
        "id": "hTYXLVcPC-GH",
        "outputId": "1569409f-98f8-4875-8c86-53083dc6da7c"
      },
      "source": [
        "# Train a classifier on top of pretrained embeddings\n",
        "model_6_history = model_6.fit(train_sentences,\n",
        "                              train_labels,\n",
        "                              epochs=5,\n",
        "                              validation_data=(val_sentences, val_labels),\n",
        "                              callbacks=[create_tensorboard_callback(Save_dir, \n",
        "                                                                     \"tf_hub_sentence_encoder\")])"
      ],
      "execution_count": null,
      "outputs": [
        {
          "output_type": "stream",
          "text": [
            "Saving TensorBoard log files to: model_logs/tf_hub_sentence_encoder/20210715-104124\n",
            "Epoch 1/5\n",
            "191/191 [==============================] - 10s 37ms/step - loss: 0.5902 - accuracy: 0.7251 - val_loss: 0.4477 - val_accuracy: 0.7965\n",
            "Epoch 2/5\n",
            "191/191 [==============================] - 2s 13ms/step - loss: 0.4043 - accuracy: 0.8212 - val_loss: 0.4433 - val_accuracy: 0.7978\n",
            "Epoch 3/5\n",
            "191/191 [==============================] - 2s 13ms/step - loss: 0.3958 - accuracy: 0.8271 - val_loss: 0.4421 - val_accuracy: 0.8017\n",
            "Epoch 4/5\n",
            "191/191 [==============================] - 2s 13ms/step - loss: 0.4017 - accuracy: 0.8171 - val_loss: 0.4424 - val_accuracy: 0.8056\n",
            "Epoch 5/5\n",
            "191/191 [==============================] - 2s 13ms/step - loss: 0.3781 - accuracy: 0.8348 - val_loss: 0.4367 - val_accuracy: 0.8076\n"
          ],
          "name": "stdout"
        }
      ]
    },
    {
      "cell_type": "code",
      "metadata": {
        "execution": {
          "iopub.status.busy": "2021-07-15T10:41:54.451216Z",
          "iopub.execute_input": "2021-07-15T10:41:54.451628Z",
          "iopub.status.idle": "2021-07-15T10:41:55.346175Z",
          "shell.execute_reply.started": "2021-07-15T10:41:54.451593Z",
          "shell.execute_reply": "2021-07-15T10:41:55.344951Z"
        },
        "trusted": true,
        "id": "0Yt1bvTwC-GI"
      },
      "source": [
        "# Make predictions with USE TF Hub model\n",
        "model_6_pred_probs = model_6.predict(val_sentences)\n",
        "model_6_preds = tf.squeeze(tf.round(model_6_pred_probs))"
      ],
      "execution_count": null,
      "outputs": []
    },
    {
      "cell_type": "code",
      "metadata": {
        "execution": {
          "iopub.status.busy": "2021-07-15T10:42:04.607611Z",
          "iopub.execute_input": "2021-07-15T10:42:04.608031Z",
          "iopub.status.idle": "2021-07-15T10:42:04.621072Z",
          "shell.execute_reply.started": "2021-07-15T10:42:04.607997Z",
          "shell.execute_reply": "2021-07-15T10:42:04.619582Z"
        },
        "trusted": true,
        "id": "hInweY67C-GI",
        "outputId": "eff5d08b-0084-4a03-de68-f3b6ff30a986"
      },
      "source": [
        "# Calculate model 6 performance metrics\n",
        "model_6_results = calculate_results(val_labels, model_6_preds)\n",
        "model_6_results"
      ],
      "execution_count": null,
      "outputs": [
        {
          "output_type": "execute_result",
          "data": {
            "text/plain": [
              "{'accuracy': 80.76165462902168,\n",
              " 'precision': 0.807709134632004,\n",
              " 'recall': 0.8076165462902167,\n",
              " 'f1': 0.8062399846321143}"
            ]
          },
          "metadata": {
            "tags": []
          },
          "execution_count": 136
        }
      ]
    },
    {
      "cell_type": "code",
      "metadata": {
        "execution": {
          "iopub.status.busy": "2021-07-15T10:42:13.225109Z",
          "iopub.execute_input": "2021-07-15T10:42:13.225508Z",
          "iopub.status.idle": "2021-07-15T10:42:13.231116Z",
          "shell.execute_reply.started": "2021-07-15T10:42:13.225465Z",
          "shell.execute_reply": "2021-07-15T10:42:13.230215Z"
        },
        "trusted": true,
        "id": "_srN331gC-GI",
        "outputId": "29929658-3ffd-42b4-aa6b-3267273246fd"
      },
      "source": [
        "# Compare TF Hub model to baseline\n",
        "compare_baseline_to_new_results(baseline_results, model_6_results)"
      ],
      "execution_count": null,
      "outputs": [
        {
          "output_type": "stream",
          "text": [
            "Baseline accuracy: 79.91, New accuracy: 80.76, Difference: 0.85\n",
            "Baseline precision: 0.81, New precision: 0.81, Difference: -0.01\n",
            "Baseline recall: 0.80, New recall: 0.81, Difference: 0.01\n",
            "Baseline f1: 0.79, New f1: 0.81, Difference: 0.01\n"
          ],
          "name": "stdout"
        }
      ]
    },
    {
      "cell_type": "markdown",
      "metadata": {
        "id": "Vx8fNCnqC-GI"
      },
      "source": [
        "**Comparing Performance**"
      ]
    },
    {
      "cell_type": "code",
      "metadata": {
        "execution": {
          "iopub.status.busy": "2021-07-15T10:43:33.853183Z",
          "iopub.execute_input": "2021-07-15T10:43:33.853742Z",
          "iopub.status.idle": "2021-07-15T10:43:33.874849Z",
          "shell.execute_reply.started": "2021-07-15T10:43:33.853708Z",
          "shell.execute_reply": "2021-07-15T10:43:33.873980Z"
        },
        "trusted": true,
        "id": "Vw3eI12eC-GI",
        "outputId": "74c0d35a-93d9-41db-f8a9-28d696a420d1"
      },
      "source": [
        "# Combine model results into a DataFrame\n",
        "all_model_results = pd.DataFrame({\"baseline\": baseline_results,\n",
        "                                  \"simple_dense\": model_1_results,\n",
        "                                  \"lstm\": model_2_results,\n",
        "                                  \"gru\": model_3_results,\n",
        "                                  \"bidirectional\": model_4_results,\n",
        "                                  \"conv1d\": model_5_results,\n",
        "                                  \"tf_hub_sentence_encoder\": model_6_results})\n",
        "all_model_results = all_model_results.transpose()\n",
        "all_model_results"
      ],
      "execution_count": null,
      "outputs": [
        {
          "output_type": "execute_result",
          "data": {
            "text/plain": [
              "                          accuracy  precision    recall        f1\n",
              "baseline                 79.908076   0.814636  0.799081  0.792016\n",
              "simple_dense             79.382797   0.797094  0.793828  0.790424\n",
              "lstm                     77.872620   0.778461  0.778726  0.776949\n",
              "gru                      76.165463   0.760753  0.761655  0.760586\n",
              "bidirectional            76.362443   0.763603  0.763624  0.761094\n",
              "conv1d                   75.705844   0.756194  0.757058  0.756288\n",
              "tf_hub_sentence_encoder  80.761655   0.807709  0.807617  0.806240"
            ],
            "text/html": [
              "<div>\n",
              "<style scoped>\n",
              "    .dataframe tbody tr th:only-of-type {\n",
              "        vertical-align: middle;\n",
              "    }\n",
              "\n",
              "    .dataframe tbody tr th {\n",
              "        vertical-align: top;\n",
              "    }\n",
              "\n",
              "    .dataframe thead th {\n",
              "        text-align: right;\n",
              "    }\n",
              "</style>\n",
              "<table border=\"1\" class=\"dataframe\">\n",
              "  <thead>\n",
              "    <tr style=\"text-align: right;\">\n",
              "      <th></th>\n",
              "      <th>accuracy</th>\n",
              "      <th>precision</th>\n",
              "      <th>recall</th>\n",
              "      <th>f1</th>\n",
              "    </tr>\n",
              "  </thead>\n",
              "  <tbody>\n",
              "    <tr>\n",
              "      <th>baseline</th>\n",
              "      <td>79.908076</td>\n",
              "      <td>0.814636</td>\n",
              "      <td>0.799081</td>\n",
              "      <td>0.792016</td>\n",
              "    </tr>\n",
              "    <tr>\n",
              "      <th>simple_dense</th>\n",
              "      <td>79.382797</td>\n",
              "      <td>0.797094</td>\n",
              "      <td>0.793828</td>\n",
              "      <td>0.790424</td>\n",
              "    </tr>\n",
              "    <tr>\n",
              "      <th>lstm</th>\n",
              "      <td>77.872620</td>\n",
              "      <td>0.778461</td>\n",
              "      <td>0.778726</td>\n",
              "      <td>0.776949</td>\n",
              "    </tr>\n",
              "    <tr>\n",
              "      <th>gru</th>\n",
              "      <td>76.165463</td>\n",
              "      <td>0.760753</td>\n",
              "      <td>0.761655</td>\n",
              "      <td>0.760586</td>\n",
              "    </tr>\n",
              "    <tr>\n",
              "      <th>bidirectional</th>\n",
              "      <td>76.362443</td>\n",
              "      <td>0.763603</td>\n",
              "      <td>0.763624</td>\n",
              "      <td>0.761094</td>\n",
              "    </tr>\n",
              "    <tr>\n",
              "      <th>conv1d</th>\n",
              "      <td>75.705844</td>\n",
              "      <td>0.756194</td>\n",
              "      <td>0.757058</td>\n",
              "      <td>0.756288</td>\n",
              "    </tr>\n",
              "    <tr>\n",
              "      <th>tf_hub_sentence_encoder</th>\n",
              "      <td>80.761655</td>\n",
              "      <td>0.807709</td>\n",
              "      <td>0.807617</td>\n",
              "      <td>0.806240</td>\n",
              "    </tr>\n",
              "  </tbody>\n",
              "</table>\n",
              "</div>"
            ]
          },
          "metadata": {
            "tags": []
          },
          "execution_count": 139
        }
      ]
    },
    {
      "cell_type": "code",
      "metadata": {
        "execution": {
          "iopub.status.busy": "2021-07-15T10:43:44.617007Z",
          "iopub.execute_input": "2021-07-15T10:43:44.617539Z",
          "iopub.status.idle": "2021-07-15T10:43:44.675264Z",
          "shell.execute_reply.started": "2021-07-15T10:43:44.617504Z",
          "shell.execute_reply": "2021-07-15T10:43:44.674004Z"
        },
        "trusted": true,
        "id": "TmCD1hxGC-GJ"
      },
      "source": [
        "# Reduce the accuracy to same scale as other metrics\n",
        "all_model_results[\"accuracy\"] = all_model_results[\"accuracy\"]/100"
      ],
      "execution_count": null,
      "outputs": []
    },
    {
      "cell_type": "code",
      "metadata": {
        "execution": {
          "iopub.status.busy": "2021-07-15T10:44:01.896709Z",
          "iopub.execute_input": "2021-07-15T10:44:01.897134Z",
          "iopub.status.idle": "2021-07-15T10:44:02.240083Z",
          "shell.execute_reply.started": "2021-07-15T10:44:01.897099Z",
          "shell.execute_reply": "2021-07-15T10:44:02.238808Z"
        },
        "trusted": true,
        "id": "lrsSG2_cC-GJ",
        "outputId": "e4f609e8-cd94-44dc-fcfe-220f616b2aa1"
      },
      "source": [
        "# Plot and compare all of the model results\n",
        "all_model_results.plot(kind=\"bar\", figsize=(10, 7)).legend(bbox_to_anchor=(1.0, 1.0));"
      ],
      "execution_count": null,
      "outputs": [
        {
          "output_type": "display_data",
          "data": {
            "text/plain": [
              "<Figure size 720x504 with 1 Axes>"
            ],
            "image/png": "[encoded data removed]"
          },
          "metadata": {
            "tags": [],
            "needs_background": "light"
          }
        }
      ]
    },
    {
      "cell_type": "markdown",
      "metadata": {
        "id": "khy8bdXeC-GJ"
      },
      "source": [
        ""
      ]
    },
    {
      "cell_type": "code",
      "metadata": {
        "execution": {
          "iopub.status.busy": "2021-07-15T10:52:04.633251Z",
          "iopub.execute_input": "2021-07-15T10:52:04.633772Z",
          "iopub.status.idle": "2021-07-15T10:52:04.640909Z",
          "shell.execute_reply.started": "2021-07-15T10:52:04.633728Z",
          "shell.execute_reply": "2021-07-15T10:52:04.639122Z"
        },
        "trusted": true,
        "id": "7U8-sB0yC-GJ"
      },
      "source": [
        ""
      ],
      "execution_count": null,
      "outputs": []
    },
    {
      "cell_type": "code",
      "metadata": {
        "trusted": true,
        "id": "wQgl2wpOC-GJ"
      },
      "source": [
        ""
      ],
      "execution_count": null,
      "outputs": []
    },
    {
      "cell_type": "code",
      "metadata": {
        "execution": {
          "iopub.status.busy": "2021-07-15T10:53:18.881147Z",
          "iopub.execute_input": "2021-07-15T10:53:18.881718Z",
          "iopub.status.idle": "2021-07-15T10:53:18.889125Z",
          "shell.execute_reply.started": "2021-07-15T10:53:18.881667Z",
          "shell.execute_reply": "2021-07-15T10:53:18.887745Z"
        },
        "trusted": true,
        "id": "YiuPQBcZC-GJ"
      },
      "source": [
        ""
      ],
      "execution_count": null,
      "outputs": []
    },
    {
      "cell_type": "code",
      "metadata": {
        "id": "JSH01tdeC-GK"
      },
      "source": [
        ""
      ],
      "execution_count": null,
      "outputs": []
    }
  ]
}